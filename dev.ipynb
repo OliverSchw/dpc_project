{
 "cells": [
  {
   "cell_type": "code",
   "execution_count": 1,
   "metadata": {},
   "outputs": [],
   "source": [
    "import jax\n",
    "import jax.nn as jnn\n",
    "import jax.numpy as jnp\n",
    "import numpy as np\n",
    "\n",
    "import equinox as eqx\n",
    "import diffrax"
   ]
  },
  {
   "cell_type": "code",
   "execution_count": 2,
   "metadata": {},
   "outputs": [
    {
     "name": "stderr",
     "output_type": "stream",
     "text": [
      "2024-10-27 12:34:13.357578: W external/xla/xla/service/gpu/nvptx_compiler.cc:760] The NVIDIA driver's CUDA version is 12.2 which is older than the ptxas CUDA version (12.6.77). Because the driver is older than the ptxas version, XLA is disabling parallel compilation, which may slow down compilation. You should update your NVIDIA driver or use the NVIDIA-provided CUDA forward compatibility packages.\n"
     ]
    }
   ],
   "source": [
    "from policy.policy_training import data_generation, vmap_rollout_traj_env, vmap_compute_loss\n",
    "from exciting_environments.pmsm.pmsm_env import PMSM"
   ]
  },
  {
   "cell_type": "code",
   "execution_count": 3,
   "metadata": {},
   "outputs": [],
   "source": [
    "motor_env = PMSM(\n",
    "    saturated=True,\n",
    "    LUT_motor_name=\"BRUSA\",\n",
    "    batch_size=1,\n",
    "    control_state=[])\n"
   ]
  },
  {
   "cell_type": "code",
   "execution_count": 4,
   "metadata": {},
   "outputs": [],
   "source": [
    "data_batch_size=20\n",
    "keys=jax.vmap(jax.random.PRNGKey)(np.random.randint(0, 2**31, size=(data_batch_size,)))\n",
    "#key=jax.vmap(jax.random.PRNGKey)(jnp.linspace(0,1000,1001).astype(int))"
   ]
  },
  {
   "cell_type": "code",
   "execution_count": 5,
   "metadata": {},
   "outputs": [],
   "source": [
    "in_obs,ref_ob,keys=data_generation(motor_env,keys)"
   ]
  },
  {
   "cell_type": "code",
   "execution_count": 6,
   "metadata": {},
   "outputs": [],
   "source": [
    "def policy_fun(*args):\n",
    "    return jnp.array([0.03,0.03])"
   ]
  },
  {
   "cell_type": "code",
   "execution_count": 7,
   "metadata": {},
   "outputs": [],
   "source": [
    "def featurize(obs,ref_obs):\n",
    "    return obs"
   ]
  },
  {
   "cell_type": "code",
   "execution_count": 8,
   "metadata": {},
   "outputs": [],
   "source": [
    "obs,acts=vmap_rollout_traj_env(init_obs=in_obs,ref_obs=ref_ob,env=motor_env,horizon_length=15,policy=policy_fun,featurize=featurize)"
   ]
  },
  {
   "cell_type": "code",
   "execution_count": 9,
   "metadata": {},
   "outputs": [],
   "source": [
    "def mse_loss(obs,ref_obs):\n",
    "    loss=jnp.mean(jnp.sum((obs[:,:2]-ref_obs[:2])**2,axis=1))\n",
    "    return loss"
   ]
  },
  {
   "cell_type": "code",
   "execution_count": 10,
   "metadata": {},
   "outputs": [],
   "source": [
    "def penalty_loss(obs,ref_obs):\n",
    "    loss=0\n",
    "    return loss"
   ]
  },
  {
   "cell_type": "code",
   "execution_count": 11,
   "metadata": {},
   "outputs": [
    {
     "data": {
      "text/plain": [
       "Array(624.619, dtype=float32)"
      ]
     },
     "execution_count": 11,
     "metadata": {},
     "output_type": "execute_result"
    }
   ],
   "source": [
    "vmap_compute_loss(obs,ref_ob,mse_loss,penalty_loss,weighting=1)"
   ]
  }
 ],
 "metadata": {
  "kernelspec": {
   "display_name": "venv_proj",
   "language": "python",
   "name": "python3"
  },
  "language_info": {
   "codemirror_mode": {
    "name": "ipython",
    "version": 3
   },
   "file_extension": ".py",
   "mimetype": "text/x-python",
   "name": "python",
   "nbconvert_exporter": "python",
   "pygments_lexer": "ipython3",
   "version": "3.11.9"
  }
 },
 "nbformat": 4,
 "nbformat_minor": 2
}
