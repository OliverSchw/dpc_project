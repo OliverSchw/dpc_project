{
 "cells": [
  {
   "cell_type": "code",
   "execution_count": 1,
   "id": "60649f29",
   "metadata": {},
   "outputs": [
    {
     "ename": "TypeError",
     "evalue": "missing a required argument: 'key'",
     "output_type": "error",
     "traceback": [
      "\u001b[1;31m---------------------------------------------------------------------------\u001b[0m",
      "\u001b[1;31mTypeError\u001b[0m                                 Traceback (most recent call last)",
      "Cell \u001b[1;32mIn[1], line 41\u001b[0m\n\u001b[0;32m     38\u001b[0m     plot_results(test_results, env_params\u001b[38;5;241m.\u001b[39mtau)\n\u001b[0;32m     40\u001b[0m \u001b[38;5;28;01mif\u001b[39;00m \u001b[38;5;18m__name__\u001b[39m \u001b[38;5;241m==\u001b[39m \u001b[38;5;124m\"\u001b[39m\u001b[38;5;124m__main__\u001b[39m\u001b[38;5;124m\"\u001b[39m:\n\u001b[1;32m---> 41\u001b[0m     \u001b[43mmain\u001b[49m\u001b[43m(\u001b[49m\u001b[43m)\u001b[49m\n",
      "Cell \u001b[1;32mIn[1], line 36\u001b[0m, in \u001b[0;36mmain\u001b[1;34m()\u001b[0m\n\u001b[0;32m     20\u001b[0m dpc_params \u001b[38;5;241m=\u001b[39m DPCParameters(\n\u001b[0;32m     21\u001b[0m     layer_sizes\u001b[38;5;241m=\u001b[39m[\u001b[38;5;241m4\u001b[39m, \u001b[38;5;241m20\u001b[39m, \u001b[38;5;241m1\u001b[39m],\n\u001b[0;32m     22\u001b[0m     learning_rate\u001b[38;5;241m=\u001b[39m\u001b[38;5;241m1e-3\u001b[39m,\n\u001b[1;32m   (...)\u001b[0m\n\u001b[0;32m     25\u001b[0m     horizon_length\u001b[38;5;241m=\u001b[39m\u001b[38;5;241m100\u001b[39m\n\u001b[0;32m     26\u001b[0m )\n\u001b[0;32m     29\u001b[0m test_dpc_params \u001b[38;5;241m=\u001b[39m TestDPCParameters(\n\u001b[0;32m     30\u001b[0m     layer_sizes\u001b[38;5;241m=\u001b[39m[\u001b[38;5;241m4\u001b[39m, \u001b[38;5;241m20\u001b[39m, \u001b[38;5;241m1\u001b[39m],\n\u001b[0;32m     31\u001b[0m     learning_rate\u001b[38;5;241m=\u001b[39m\u001b[38;5;241m1e-3\u001b[39m,\n\u001b[0;32m     32\u001b[0m     horizon_length\u001b[38;5;241m=\u001b[39m\u001b[38;5;241m500\u001b[39m\n\u001b[0;32m     33\u001b[0m )\n\u001b[1;32m---> 36\u001b[0m policy, results \u001b[38;5;241m=\u001b[39m \u001b[43mtrain_dpc_controller\u001b[49m\u001b[43m(\u001b[49m\u001b[43menv_params\u001b[49m\u001b[43m,\u001b[49m\u001b[43m \u001b[49m\u001b[43mdpc_params\u001b[49m\u001b[43m,\u001b[49m\u001b[43m \u001b[49m\u001b[43mkey\u001b[49m\u001b[43m)\u001b[49m\n\u001b[0;32m     37\u001b[0m test_results \u001b[38;5;241m=\u001b[39m test_dpc_controller(env_params, dpc_params,test_dpc_params, key_test)\n\u001b[0;32m     38\u001b[0m plot_results(test_results, env_params\u001b[38;5;241m.\u001b[39mtau)\n",
      "File \u001b[1;32mP:\\Python\\DPCa\\utils\\dpc_controller.py:128\u001b[0m, in \u001b[0;36mtrain_dpc_controller\u001b[1;34m(env_params, dpc_params, key)\u001b[0m\n\u001b[0;32m    126\u001b[0m jax_key, subkey \u001b[38;5;241m=\u001b[39m jax\u001b[38;5;241m.\u001b[39mrandom\u001b[38;5;241m.\u001b[39msplit(key)\n\u001b[0;32m    127\u001b[0m batch_initial_states \u001b[38;5;241m=\u001b[39m random_initial_state(subkey, env_params\u001b[38;5;241m.\u001b[39mbatch_size)\n\u001b[1;32m--> 128\u001b[0m loss, policy, opt_state \u001b[38;5;241m=\u001b[39m \u001b[43mupdate_state\u001b[49m\u001b[43m(\u001b[49m\u001b[43mpolicy\u001b[49m\u001b[43m,\u001b[49m\u001b[43m \u001b[49m\u001b[43mbatch_initial_states\u001b[49m\u001b[43m,\u001b[49m\u001b[43m \u001b[49m\u001b[43msubkey\u001b[49m\u001b[43m,\u001b[49m\u001b[43m \u001b[49m\u001b[43mopt_state\u001b[49m\u001b[43m)\u001b[49m\n\u001b[0;32m    129\u001b[0m \u001b[38;5;66;03m#losses.append(loss.item())\u001b[39;00m\n\u001b[0;32m    131\u001b[0m _, predicted_states, actions, initial_states \u001b[38;5;241m=\u001b[39m loss_fn(policy, batch_initial_states, ref_state, subkey,horizon_length)\n",
      "    \u001b[1;31m[... skipping hidden 15 frame]\u001b[0m\n",
      "File \u001b[1;32mP:\\Python\\DPCa\\utils\\dpc_controller.py:116\u001b[0m, in \u001b[0;36mtrain_dpc_controller.<locals>.update_state\u001b[1;34m(policy, initial_state, key, opt_state)\u001b[0m\n\u001b[0;32m    114\u001b[0m \u001b[38;5;129m@eqx\u001b[39m\u001b[38;5;241m.\u001b[39mfilter_jit\n\u001b[0;32m    115\u001b[0m \u001b[38;5;28;01mdef\u001b[39;00m \u001b[38;5;21mupdate_state\u001b[39m(policy, initial_state, key, opt_state):\n\u001b[1;32m--> 116\u001b[0m     loss, grads \u001b[38;5;241m=\u001b[39m \u001b[43mcompute_loss\u001b[49m\u001b[43m(\u001b[49m\u001b[43mpolicy\u001b[49m\u001b[43m,\u001b[49m\u001b[43m \u001b[49m\u001b[43minitial_state\u001b[49m\u001b[43m,\u001b[49m\u001b[43m \u001b[49m\u001b[43mkey\u001b[49m\u001b[43m)\u001b[49m\n\u001b[0;32m    117\u001b[0m     updates, opt_state \u001b[38;5;241m=\u001b[39m optimizer\u001b[38;5;241m.\u001b[39mupdate(grads, opt_state)\n\u001b[0;32m    118\u001b[0m     policy \u001b[38;5;241m=\u001b[39m eqx\u001b[38;5;241m.\u001b[39mapply_updates(policy, updates)\n",
      "    \u001b[1;31m[... skipping hidden 10 frame]\u001b[0m\n",
      "File \u001b[1;32mP:\\Python\\DPCa\\utils\\dpc_controller.py:98\u001b[0m, in \u001b[0;36mtrain_dpc_controller.<locals>.compute_loss\u001b[1;34m(policy, initial_state, key)\u001b[0m\n\u001b[0;32m     96\u001b[0m \u001b[38;5;129m@eqx\u001b[39m\u001b[38;5;241m.\u001b[39mfilter_value_and_grad\n\u001b[0;32m     97\u001b[0m \u001b[38;5;28;01mdef\u001b[39;00m \u001b[38;5;21mcompute_loss\u001b[39m(policy, initial_state, key):\n\u001b[1;32m---> 98\u001b[0m     mse_loss, _, _, _ \u001b[38;5;241m=\u001b[39m \u001b[43mloss_fn\u001b[49m\u001b[43m(\u001b[49m\u001b[43mpolicy\u001b[49m\u001b[43m,\u001b[49m\u001b[43m \u001b[49m\u001b[43minitial_state\u001b[49m\u001b[43m,\u001b[49m\u001b[43m \u001b[49m\u001b[43mref_state\u001b[49m\u001b[43m,\u001b[49m\u001b[43m \u001b[49m\u001b[43mkey\u001b[49m\u001b[43m,\u001b[49m\u001b[43mhorizon_length\u001b[49m\u001b[43m)\u001b[49m\n\u001b[0;32m     99\u001b[0m     \u001b[38;5;28;01mreturn\u001b[39;00m mse_loss\n",
      "    \u001b[1;31m[... skipping hidden 5 frame]\u001b[0m\n",
      "File \u001b[1;32mP:\\app\\AnacondaInstalledDirectory\\lib\\inspect.py:3185\u001b[0m, in \u001b[0;36mSignature.bind\u001b[1;34m(self, *args, **kwargs)\u001b[0m\n\u001b[0;32m   3180\u001b[0m \u001b[38;5;28;01mdef\u001b[39;00m \u001b[38;5;21mbind\u001b[39m(\u001b[38;5;28mself\u001b[39m, \u001b[38;5;241m/\u001b[39m, \u001b[38;5;241m*\u001b[39margs, \u001b[38;5;241m*\u001b[39m\u001b[38;5;241m*\u001b[39mkwargs):\n\u001b[0;32m   3181\u001b[0m \u001b[38;5;250m    \u001b[39m\u001b[38;5;124;03m\"\"\"Get a BoundArguments object, that maps the passed `args`\u001b[39;00m\n\u001b[0;32m   3182\u001b[0m \u001b[38;5;124;03m    and `kwargs` to the function's signature.  Raises `TypeError`\u001b[39;00m\n\u001b[0;32m   3183\u001b[0m \u001b[38;5;124;03m    if the passed arguments can not be bound.\u001b[39;00m\n\u001b[0;32m   3184\u001b[0m \u001b[38;5;124;03m    \"\"\"\u001b[39;00m\n\u001b[1;32m-> 3185\u001b[0m     \u001b[38;5;28;01mreturn\u001b[39;00m \u001b[38;5;28;43mself\u001b[39;49m\u001b[38;5;241;43m.\u001b[39;49m\u001b[43m_bind\u001b[49m\u001b[43m(\u001b[49m\u001b[43margs\u001b[49m\u001b[43m,\u001b[49m\u001b[43m \u001b[49m\u001b[43mkwargs\u001b[49m\u001b[43m)\u001b[49m\n",
      "File \u001b[1;32mP:\\app\\AnacondaInstalledDirectory\\lib\\inspect.py:3100\u001b[0m, in \u001b[0;36mSignature._bind\u001b[1;34m(self, args, kwargs, partial)\u001b[0m\n\u001b[0;32m   3098\u001b[0m                 msg \u001b[38;5;241m=\u001b[39m \u001b[38;5;124m'\u001b[39m\u001b[38;5;124mmissing a required argument: \u001b[39m\u001b[38;5;132;01m{arg!r}\u001b[39;00m\u001b[38;5;124m'\u001b[39m\n\u001b[0;32m   3099\u001b[0m                 msg \u001b[38;5;241m=\u001b[39m msg\u001b[38;5;241m.\u001b[39mformat(arg\u001b[38;5;241m=\u001b[39mparam\u001b[38;5;241m.\u001b[39mname)\n\u001b[1;32m-> 3100\u001b[0m                 \u001b[38;5;28;01mraise\u001b[39;00m \u001b[38;5;167;01mTypeError\u001b[39;00m(msg) \u001b[38;5;28;01mfrom\u001b[39;00m \u001b[38;5;28;01mNone\u001b[39;00m\n\u001b[0;32m   3101\u001b[0m \u001b[38;5;28;01melse\u001b[39;00m:\n\u001b[0;32m   3102\u001b[0m     \u001b[38;5;66;03m# We have a positional argument to process\u001b[39;00m\n\u001b[0;32m   3103\u001b[0m     \u001b[38;5;28;01mtry\u001b[39;00m:\n",
      "\u001b[1;31mTypeError\u001b[0m: missing a required argument: 'key'"
     ]
    }
   ],
   "source": [
    "import jax\n",
    "from utils.dpc_controller import EnvParameters, DPCParameters, train_dpc_controller\n",
    "from utils.test_dpc import TestDPCParameters, test_dpc_controller\n",
    "from utils.helpers import plot_results\n",
    "\n",
    "\n",
    "def main():\n",
    "    key = jax.random.PRNGKey(0)\n",
    "    key_test = jax.random.PRNGKey(1)\n",
    "    \n",
    "    env_params = EnvParameters(\n",
    "        name='Pendulum-v0',\n",
    "        batch_size=11,\n",
    "        l=1,\n",
    "        m=1,\n",
    "        tau=1e-2,\n",
    "        max_torque=1\n",
    "    )\n",
    "    \n",
    "    dpc_params = DPCParameters(\n",
    "        layer_sizes=[4, 20, 1],\n",
    "        learning_rate=1e-3,\n",
    "        optimizer_type='sgd',\n",
    "        epochs=3,\n",
    "        horizon_length=100\n",
    "    )\n",
    "    \n",
    "    \n",
    "    test_dpc_params = TestDPCParameters(\n",
    "        layer_sizes=[4, 20, 1],\n",
    "        learning_rate=1e-3,\n",
    "        horizon_length=500\n",
    "    )\n",
    "    \n",
    "    \n",
    "    policy, results = train_dpc_controller(env_params, dpc_params, key)\n",
    "    test_results = test_dpc_controller(env_params, dpc_params,test_dpc_params, key_test)\n",
    "    plot_results(test_results, env_params.tau)\n",
    "\n",
    "if __name__ == \"__main__\":\n",
    "    main()\n"
   ]
  }
 ],
 "metadata": {
  "kernelspec": {
   "display_name": "Python 3 (ipykernel)",
   "language": "python",
   "name": "python3"
  },
  "language_info": {
   "codemirror_mode": {
    "name": "ipython",
    "version": 3
   },
   "file_extension": ".py",
   "mimetype": "text/x-python",
   "name": "python",
   "nbconvert_exporter": "python",
   "pygments_lexer": "ipython3",
   "version": "3.10.9"
  }
 },
 "nbformat": 4,
 "nbformat_minor": 5
}
