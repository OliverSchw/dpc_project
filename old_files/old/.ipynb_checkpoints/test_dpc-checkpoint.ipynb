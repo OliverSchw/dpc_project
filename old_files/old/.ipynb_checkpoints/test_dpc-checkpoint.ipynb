{
 "cells": [
  {
   "cell_type": "code",
   "execution_count": 1,
   "id": "bf403b99",
   "metadata": {},
   "outputs": [
    {
     "ename": "ModuleNotFoundError",
     "evalue": "No module named 'utils'",
     "output_type": "error",
     "traceback": [
      "\u001b[1;31m---------------------------------------------------------------------------\u001b[0m",
      "\u001b[1;31mModuleNotFoundError\u001b[0m                       Traceback (most recent call last)",
      "Cell \u001b[1;32mIn[1], line 2\u001b[0m\n\u001b[0;32m      1\u001b[0m \u001b[38;5;28;01mimport\u001b[39;00m \u001b[38;5;21;01mjax\u001b[39;00m \n\u001b[1;32m----> 2\u001b[0m \u001b[38;5;28;01mfrom\u001b[39;00m \u001b[38;5;21;01mdpc_controller\u001b[39;00m \u001b[38;5;28;01mimport\u001b[39;00m EnvParameters, DPCParameters, train_dpc_controller\n\u001b[0;32m      5\u001b[0m \u001b[38;5;28;01mdef\u001b[39;00m \u001b[38;5;21mtest_dpc_controller\u001b[39m():\n\u001b[0;32m      6\u001b[0m     key \u001b[38;5;241m=\u001b[39m jax\u001b[38;5;241m.\u001b[39mrandom\u001b[38;5;241m.\u001b[39mPRNGKey(\u001b[38;5;241m1\u001b[39m)\n",
      "File \u001b[1;32mP:\\Python\\DPCa\\utils\\dpc_controller.py:7\u001b[0m\n\u001b[0;32m      5\u001b[0m \u001b[38;5;28;01mimport\u001b[39;00m \u001b[38;5;21;01moptax\u001b[39;00m\n\u001b[0;32m      6\u001b[0m \u001b[38;5;28;01mimport\u001b[39;00m \u001b[38;5;21;01mequinox\u001b[39;00m \u001b[38;5;28;01mas\u001b[39;00m \u001b[38;5;21;01meqx\u001b[39;00m\n\u001b[1;32m----> 7\u001b[0m \u001b[38;5;28;01mfrom\u001b[39;00m \u001b[38;5;21;01mutils\u001b[39;00m\u001b[38;5;21;01m.\u001b[39;00m\u001b[38;5;21;01mhelpers\u001b[39;00m \u001b[38;5;28;01mimport\u001b[39;00m random_initial_state\n\u001b[0;32m      8\u001b[0m \u001b[38;5;66;03m#from helpers import random_initial_state\u001b[39;00m\n\u001b[0;32m     10\u001b[0m \u001b[38;5;28;01mimport\u001b[39;00m \u001b[38;5;21;01mexciting_environments\u001b[39;00m \u001b[38;5;28;01mas\u001b[39;00m \u001b[38;5;21;01mexcenvs\u001b[39;00m\n",
      "\u001b[1;31mModuleNotFoundError\u001b[0m: No module named 'utils'"
     ]
    }
   ],
   "source": [
    "import jax \n",
    "from dpc_controller import EnvParameters, DPCParameters, train_dpc_controller\n",
    "\n",
    "\n",
    "def test_dpc_controller():\n",
    "    key = jax.random.PRNGKey(1)\n",
    "    \n",
    "    env_params = EnvParameters(\n",
    "        name='Pendulum-v0',\n",
    "        batch_size=2,\n",
    "        l=1,\n",
    "        m=1,\n",
    "        tau=1e-2,\n",
    "        max_torque=1\n",
    "    )\n",
    "    \n",
    "    dpc_params = DPCParameters(\n",
    "        layer_sizes=[4, 20, 1],\n",
    "        learning_rate=1e-3,\n",
    "        optimizer_type='rmsprop',\n",
    "        epochs=3\n",
    "    )\n",
    "    \n",
    "    policy, results = train_dpc_controller(env_params, dpc_params, key)\n",
    "    \n",
    "    assert len(results.losses) == dpc_params.epochs, \"Losses length mismatch\"\n",
    "    assert results.state_trajectories[0].shape[1] == env_params.batch_size, \"State trajectories batch size mismatch\"\n",
    "    assert results.action_trajectories[0].shape[1] == env_params.batch_size, \"Action trajectories batch size mismatch\"\n",
    "\n",
    "\n",
    "if __name__ == \"__main__\":\n",
    "    test_dpc_controller()"
   ]
  },
  {
   "cell_type": "code",
   "execution_count": 2,
   "id": "235684e6",
   "metadata": {},
   "outputs": [],
   "source": [
    "#from dpc_controller import EnvParameters, DPCParameters, train_dpc_controller"
   ]
  },
  {
   "cell_type": "code",
   "execution_count": 12,
   "id": "e942f8b1",
   "metadata": {},
   "outputs": [],
   "source": [
    "#from helpers import random_initial_state, plot_results"
   ]
  }
 ],
 "metadata": {
  "kernelspec": {
   "display_name": "Python 3 (ipykernel)",
   "language": "python",
   "name": "python3"
  },
  "language_info": {
   "codemirror_mode": {
    "name": "ipython",
    "version": 3
   },
   "file_extension": ".py",
   "mimetype": "text/x-python",
   "name": "python",
   "nbconvert_exporter": "python",
   "pygments_lexer": "ipython3",
   "version": "3.10.9"
  }
 },
 "nbformat": 4,
 "nbformat_minor": 5
}
