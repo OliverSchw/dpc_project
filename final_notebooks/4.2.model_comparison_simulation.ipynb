{
 "cells": [
  {
   "cell_type": "code",
   "execution_count": 1,
   "metadata": {},
   "outputs": [],
   "source": [
    "import jax\n",
    "import jax.nn as jnn\n",
    "import jax.numpy as jnp\n",
    "import numpy as np\n",
    "\n",
    "import equinox as eqx\n",
    "import diffrax\n",
    "import optax\n",
    "from functools import partial"
   ]
  },
  {
   "cell_type": "code",
   "execution_count": 2,
   "metadata": {},
   "outputs": [
    {
     "name": "stderr",
     "output_type": "stream",
     "text": [
      "2025-02-18 16:41:22.547794: W external/xla/xla/service/gpu/nvptx_compiler.cc:760] The NVIDIA driver's CUDA version is 12.2 which is older than the ptxas CUDA version (12.6.77). Because the driver is older than the ptxas version, XLA is disabling parallel compilation, which may slow down compilation. You should update your NVIDIA driver or use the NVIDIA-provided CUDA forward compatibility packages.\n"
     ]
    }
   ],
   "source": [
    "import os\n",
    "os.chdir(\"..\")\n",
    "from policy.policy_training import DPCTrainer\n",
    "from exciting_environments.pmsm.pmsm_env import PMSM, step_eps\n",
    "import jax_dataclasses as jdc\n",
    "from models.models import NeuralEulerODE,MLP\n",
    "#from policy.networks import MLP#,MLP2\n",
    "import matplotlib.pyplot as plt"
   ]
  },
  {
   "cell_type": "code",
   "execution_count": 3,
   "metadata": {},
   "outputs": [],
   "source": [
    "gpus = jax.devices()\n",
    "jax.config.update(\"jax_default_device\", gpus[1])\n",
    "jax.config.update(\"jax_enable_x64\", False)"
   ]
  },
  {
   "cell_type": "code",
   "execution_count": 4,
   "metadata": {},
   "outputs": [],
   "source": [
    "class ExpertModel(eqx.Module):\n",
    "    motor_env: PMSM = eqx.field(static=True)\n",
    "    psi_dq_mlp: MLP\n",
    "\n",
    "    def __init__(self, motor_env, psi_layer_sizes, key):\n",
    "        self.motor_env = motor_env\n",
    "        key, subkey = jax.random.split(key)\n",
    "        self.psi_dq_mlp = MLP(\n",
    "            psi_layer_sizes, key=subkey, hidden_activation=jax.nn.swish, output_activation=jax.nn.tanh\n",
    "        )\n",
    "\n",
    "    def __call__(self, init_obs, actions, tau):\n",
    "\n",
    "        def body_fun(carry, action):\n",
    "            obs = carry\n",
    "            obs = self.step(obs, action, tau)\n",
    "            return obs, obs\n",
    "\n",
    "        _, observations = jax.lax.scan(body_fun, init_obs, actions)\n",
    "        observations = jnp.concatenate([init_obs[None, :], observations], axis=0)\n",
    "        return observations\n",
    "\n",
    "    def step(self, obs, action, tau):\n",
    "        obs1, _ = self.motor_env.reset(self.motor_env.env_properties)  #\n",
    "        obs1 = obs1.at[2].set((3 * 1500 / 60 * 2 * jnp.pi) / (2 * jnp.pi * 3 * 11000 / 60))\n",
    "        obs1 = obs1.at[0].set(obs[0])\n",
    "        obs1 = obs1.at[1].set(obs[1])\n",
    "        obs1 = obs1.at[4].set(obs[2])\n",
    "        obs1 = obs1.at[5].set(obs[3])\n",
    "        state = self.motor_env.generate_state_from_observation(obs1, self.motor_env.env_properties)\n",
    "        # obs,_= self.motor_env.step(state, action, self.motor_env.env_properties)\n",
    "        obs, _ = self.step_expert(state, action, self.motor_env.env_properties)\n",
    "        return jnp.concatenate([obs[0:2], obs[4:6]])\n",
    "\n",
    "    #@partial(jax.jit, static_argnums=[0, 3])\n",
    "    def ode_step(self, state, u_dq, properties):\n",
    "        \"\"\"Computes state by simulating one step.\n",
    "\n",
    "        Args:\n",
    "            system_state: The state from which to calculate state for the next step.\n",
    "            u_dq: The action to apply to the environment.\n",
    "            properties: Parameters and settings of the environment, that do not change over time.\n",
    "\n",
    "        Returns:\n",
    "            state: The computed state after the one step simulation.\n",
    "        \"\"\"\n",
    "        system_state = state.physical_state\n",
    "        omega_el = system_state.omega_el\n",
    "        i_d = system_state.i_d\n",
    "        i_q = system_state.i_q\n",
    "        eps = system_state.epsilon\n",
    "\n",
    "        args = (u_dq, properties.static_params)\n",
    "        if properties.saturated:\n",
    "\n",
    "            def vector_field(t, y, args):\n",
    "                i_d, i_q = y\n",
    "                u_dq, _ = args\n",
    "\n",
    "                J_k = jnp.array([[0, -1], [1, 0]])\n",
    "                i_dq = jnp.array([i_d, i_q])\n",
    "                p_d = {q: interp(jnp.array([i_d, i_q])) for q, interp in self.motor_env.LUT_interpolators.items()}\n",
    "                i_dq_norm = i_dq / properties.physical_constraints.i_d\n",
    "\n",
    "                p_d[\"Psi_d\"] = self.Psi_d(i_dq_norm)\n",
    "                p_d[\"Psi_q\"] = self.Psi_q(i_dq_norm)\n",
    "                p_d[\"L_dd\"] = self.L_dd(i_dq_norm)\n",
    "                p_d[\"L_dq\"] = self.L_dq(i_dq_norm)\n",
    "                p_d[\"L_qd\"] = self.L_qd(i_dq_norm)\n",
    "                p_d[\"L_qq\"] = self.L_qq(i_dq_norm)\n",
    "\n",
    "                L_diff = jnp.column_stack([p_d[q] for q in [\"L_dd\", \"L_dq\", \"L_qd\", \"L_qq\"]]).reshape(2, 2)\n",
    "                L_diff_inv = jnp.linalg.inv(L_diff)\n",
    "                psi_dq = jnp.column_stack([p_d[psi] for psi in [\"Psi_d\", \"Psi_q\"]]).reshape(-1)\n",
    "                di_dq_1 = jnp.einsum(\n",
    "                    \"ij,j->i\",\n",
    "                    (-L_diff_inv * properties.static_params.r_s),\n",
    "                    i_dq,\n",
    "                )\n",
    "                di_dq_2 = jnp.einsum(\"ik,k->i\", L_diff_inv, u_dq)\n",
    "                di_dq_3 = jnp.einsum(\"ij,jk,k->i\", -L_diff_inv, J_k, psi_dq) * omega_el\n",
    "                i_dq_diff = di_dq_1 + di_dq_2 + di_dq_3\n",
    "                d_y = i_dq_diff[0], i_dq_diff[1]\n",
    "\n",
    "                return d_y\n",
    "\n",
    "        else:\n",
    "\n",
    "            def vector_field(t, y, args):\n",
    "                i_d, i_q = y\n",
    "                u_dq, params = args\n",
    "                u_d = u_dq[0]\n",
    "                u_q = u_dq[1]\n",
    "                l_d = params.l_d\n",
    "                l_q = params.l_q\n",
    "                psi_p = params.psi_p\n",
    "                r_s = params.r_s\n",
    "                i_d_diff = (u_d + omega_el * l_q * i_q - r_s * i_d) / l_d\n",
    "                i_q_diff = (u_q - omega_el * (l_d * i_d + psi_p) - r_s * i_q) / l_q\n",
    "                d_y = i_d_diff, i_q_diff\n",
    "                return d_y\n",
    "\n",
    "        term = diffrax.ODETerm(vector_field)\n",
    "        t0 = 0\n",
    "        t1 = self.motor_env.tau\n",
    "        y0 = tuple([i_d, i_q])\n",
    "        env_state = self.motor_env._solver.init(term, t0, t1, y0, args)\n",
    "        y, _, _, env_state, _ = self.motor_env._solver.step(term, t0, t1, y0, args, env_state, made_jump=False)\n",
    "\n",
    "        i_d_k1 = y[0]\n",
    "        i_q_k1 = y[1]\n",
    "\n",
    "        if properties.saturated:\n",
    "            torque = jnp.array(\n",
    "                [self.motor_env.currents_to_torque_saturated(i_d=i_d_k1, i_q=i_q_k1, env_properties=properties)]\n",
    "            )[0]\n",
    "        else:\n",
    "            torque = jnp.array([self.motor_env.currents_to_torque(i_d_k1, i_q_k1, properties)])[0]\n",
    "\n",
    "        with jdc.copy_and_mutate(system_state, validate=False) as system_state_next:\n",
    "            system_state_next.epsilon = step_eps(eps, omega_el, self.motor_env.tau, 1.0)\n",
    "            system_state_next.i_d = i_d_k1\n",
    "            system_state_next.i_q = i_q_k1\n",
    "            system_state_next.torque = torque  # [0]\n",
    "\n",
    "        with jdc.copy_and_mutate(state, validate=False) as state_next:\n",
    "            state_next.physical_state = system_state_next\n",
    "        return state_next\n",
    "\n",
    "    #@partial(jax.jit, static_argnums=[0, 3])\n",
    "    def step_expert(self, state, action, env_properties):\n",
    "        \"\"\"Computes state by simulating one step taking the deadtime into account.\n",
    "\n",
    "        Args:\n",
    "            system_state: The state from which to calculate state for the next step.\n",
    "            action: The action to apply to the environment.\n",
    "            properties: Parameters and settings of the environment, that do not change over time.\n",
    "\n",
    "        Returns:\n",
    "            state: The computed state after the one step simulation.\n",
    "        \"\"\"\n",
    "\n",
    "        action = self.motor_env.constraint_denormalization(action, state, env_properties)\n",
    "\n",
    "        action_buffer = jnp.array([state.physical_state.u_d_buffer, state.physical_state.u_q_buffer])\n",
    "\n",
    "        if env_properties.static_params.deadtime > 0:\n",
    "\n",
    "            updated_buffer = jnp.array([action[0], action[1]])\n",
    "            u_dq = action_buffer\n",
    "        else:\n",
    "            updated_buffer = action_buffer\n",
    "\n",
    "            u_dq = action\n",
    "\n",
    "        next_state = self.ode_step(state, u_dq, env_properties)\n",
    "        with jdc.copy_and_mutate(next_state, validate=True) as next_state_update:\n",
    "            next_state_update.physical_state.u_d_buffer = updated_buffer[0]\n",
    "            next_state_update.physical_state.u_q_buffer = updated_buffer[1]\n",
    "\n",
    "        observation = self.motor_env.generate_observation(next_state_update, env_properties)\n",
    "        return observation, next_state_update\n",
    "\n",
    "    def Psi_d(self, i_dq_norm):\n",
    "        return self.psi_dq_mlp(i_dq_norm)[0]  #  self.motor_env.LUT_interpolators[\"Psi_d\"](i_dq)[0]\n",
    "\n",
    "    def Psi_q(self, i_dq_norm):\n",
    "        return self.psi_dq_mlp(i_dq_norm)[1]  #   self.motor_env.LUT_interpolators[\"Psi_q\"](i_dq)[0]\n",
    "\n",
    "    def Psi_d_physical(self, i_dq):\n",
    "        i_dq_norm = i_dq / self.motor_env.env_properties.physical_constraints.i_d\n",
    "        return self.Psi_d(i_dq_norm)\n",
    "\n",
    "    def Psi_q_physical(self, i_dq):\n",
    "        i_dq_norm = i_dq / self.motor_env.env_properties.physical_constraints.i_d\n",
    "        return self.Psi_q(i_dq_norm)\n",
    "\n",
    "    def l_d_dq(self, i_dq):\n",
    "        return jax.grad(self.Psi_d_physical)(i_dq)\n",
    "\n",
    "    def l_q_dq(self, i_dq):\n",
    "        return jax.grad(self.Psi_q_physical)(i_dq)\n",
    "\n",
    "    def L_dd(self, i_dq_norm):\n",
    "        i_dq = i_dq_norm * self.motor_env.env_properties.physical_constraints.i_d\n",
    "        return self.l_d_dq(i_dq)[0]\n",
    "\n",
    "    def L_dq(self, i_dq_norm):\n",
    "        i_dq = i_dq_norm * self.motor_env.env_properties.physical_constraints.i_d\n",
    "        return self.l_d_dq(i_dq)[1]\n",
    "\n",
    "    def L_qd(self, i_dq_norm):\n",
    "        i_dq = i_dq_norm * self.motor_env.env_properties.physical_constraints.i_d\n",
    "        return self.l_q_dq(i_dq)[0]\n",
    "\n",
    "    def L_qq(self, i_dq_norm):\n",
    "        i_dq = i_dq_norm * self.motor_env.env_properties.physical_constraints.i_d\n",
    "        return self.l_q_dq(i_dq)[1]\n",
    "\n",
    "    def L_matrix(self, i_dq):\n",
    "        L_dd = self.L_dd(i_dq)\n",
    "        L_dq = self.L_dq(i_dq)\n",
    "        L_qd = self.L_qd(i_dq)\n",
    "        L_qq = self.L_qq(i_dq)\n",
    "        mat = jnp.array([[L_dd, L_dq], [L_qd, L_qq]])\n",
    "        return mat\n"
   ]
  },
  {
   "cell_type": "code",
   "execution_count": 5,
   "metadata": {},
   "outputs": [],
   "source": [
    "motor_env = PMSM(\n",
    "    saturated=True,\n",
    "    LUT_motor_name=\"BRUSA\",\n",
    "    batch_size=1,\n",
    "    control_state=[], \n",
    "    static_params = {\n",
    "            \"p\": 3,\n",
    "            \"r_s\": 15e-3,\n",
    "            \"l_d\": 0.37e-3,\n",
    "            \"l_q\": 1.2e-3,\n",
    "            \"psi_p\": 65.6e-3,\n",
    "            \"deadtime\": 0,\n",
    "    })"
   ]
  },
  {
   "cell_type": "code",
   "execution_count": 19,
   "metadata": {},
   "outputs": [],
   "source": [
    "import json\n",
    "with open(\"model_data/dmpe1.json\") as json_data:\n",
    "    d = json.load(json_data)\n",
    "long_obs = jnp.array(d[\"observations\"])\n",
    "long_acts = jnp.array(d[\"actions\"])\n",
    "def step_eps(eps, omega_el, tau, tau_scale=1.0):\n",
    "    eps += omega_el * tau * tau_scale\n",
    "    eps %= 2 * jnp.pi\n",
    "    boolean = eps > jnp.pi\n",
    "    summation_mask = boolean * -2 * jnp.pi\n",
    "    eps = eps + summation_mask\n",
    "    return eps\n",
    "eps = [0]\n",
    "for i in range(long_obs.shape[0]):\n",
    "    eps.append(step_eps(eps[-1], 3 * 1500 / 60 * 2 * jnp.pi, 1e-4))\n",
    "cos_long_eps = jnp.cos(jnp.array(eps[:-1])[:, None])\n",
    "sin_long_eps = jnp.sin(jnp.array(eps[:-1])[:, None])\n",
    "long_obs = jnp.hstack([long_obs, cos_long_eps, sin_long_eps])\n"
   ]
  },
  {
   "cell_type": "code",
   "execution_count": 95,
   "metadata": {},
   "outputs": [],
   "source": [
    "class BlackWrapperEps(eqx.Module):\n",
    "    node: eqx.Module\n",
    "    def __init__(self, node):\n",
    "        self.node = node\n",
    "\n",
    "    def __call__(self, init_obs, actions, tau):\n",
    "        init_obs=init_obs[:2]\n",
    "        return self.node(init_obs, actions, tau)\n",
    "\n",
    "    def step(self, obs, action, tau):\n",
    "        obs1 = obs[:2]\n",
    "        return self.node.step(obs1, action, tau)"
   ]
  },
  {
   "cell_type": "code",
   "execution_count": 96,
   "metadata": {},
   "outputs": [],
   "source": [
    "class GtWrapper(eqx.Module):\n",
    "    motor_env: PMSM = eqx.field(static=True)\n",
    "    def __init__(self, motor_env):\n",
    "        self.motor_env = motor_env\n",
    "\n",
    "    def __call__(self, init_obs, actions, tau):\n",
    "\n",
    "        def body_fun(carry, action):\n",
    "            obs = carry\n",
    "            obs = self.step(obs, action, tau)\n",
    "            return obs, obs\n",
    "\n",
    "        _, observations = jax.lax.scan(body_fun, init_obs, actions)\n",
    "        observations = jnp.concatenate([init_obs[None, :], observations], axis=0)\n",
    "        return observations\n",
    "\n",
    "    def step(self, obs, action, tau):\n",
    "        obs1, _ = self.motor_env.reset(self.motor_env.env_properties)  #\n",
    "        obs1 = obs1.at[2].set((3 * 1500 / 60 * 2 * jnp.pi) / (2 * jnp.pi * 3 * 11000 / 60))\n",
    "        obs1 = obs1.at[0].set(obs[0])\n",
    "        obs1 = obs1.at[1].set(obs[1])\n",
    "        obs1 = obs1.at[4].set(obs[2])\n",
    "        obs1 = obs1.at[5].set(obs[3])\n",
    "        state = self.motor_env.generate_state_from_observation(obs1, self.motor_env.env_properties)\n",
    "        # obs,_= self.motor_env.step(state, action, self.motor_env.env_properties)\n",
    "        obs, _ = self.motor_env.step(state, action, self.motor_env.env_properties)\n",
    "        return jnp.concatenate([obs[0:2], obs[4:6]])"
   ]
  },
  {
   "cell_type": "code",
   "execution_count": 97,
   "metadata": {},
   "outputs": [
    {
     "data": {
      "text/plain": [
       "Array([0., 0., 1., 0.], dtype=float32)"
      ]
     },
     "execution_count": 97,
     "metadata": {},
     "output_type": "execute_result"
    }
   ],
   "source": [
    "long_obs[0,:]"
   ]
  },
  {
   "cell_type": "code",
   "execution_count": 98,
   "metadata": {},
   "outputs": [],
   "source": [
    "long_acts2=jnp.concatenate([long_acts,jnp.array([0,0])[None,:]],axis=0)"
   ]
  },
  {
   "cell_type": "code",
   "execution_count": 99,
   "metadata": {},
   "outputs": [
    {
     "data": {
      "text/plain": [
       "(50000, 4)"
      ]
     },
     "execution_count": 99,
     "metadata": {},
     "output_type": "execute_result"
    }
   ],
   "source": [
    "long_obs.shape"
   ]
  },
  {
   "cell_type": "code",
   "execution_count": 113,
   "metadata": {},
   "outputs": [],
   "source": [
    "def comp_sim(model,model_gt,tau,sequence_len):\n",
    "    stacked_obs=long_obs.reshape(-1, sequence_len,4)\n",
    "    long_acts_helper=jnp.concatenate([long_acts,jnp.array([0,0])[None,:]],axis=0)\n",
    "    stacked_acts=long_acts_helper.reshape(-1, sequence_len, 2)[:,:-1,:]\n",
    "    sim = jax.vmap(model.__call__, in_axes=(0, 0,None))(stacked_obs[:,0,:], stacked_acts,tau)\n",
    "    sim_gt = jax.vmap(model_gt.__call__, in_axes=(0, 0,None))(\n",
    "            stacked_obs[:,0], stacked_acts, tau\n",
    "        )\n",
    "    return (sim[:,:,:2] - sim_gt[:,:,:2]), jnp.nanmean((sim[:,:,:2] - sim_gt[:,:,:2]) ** 2)"
   ]
  },
  {
   "cell_type": "code",
   "execution_count": 143,
   "metadata": {},
   "outputs": [],
   "source": [
    "def valid(obs):\n",
    "    return (obs[:,:,0]**2+obs[:,:,0]**2)<=1\n",
    "def comp_sim_valid(model,model_gt,tau,sequence_len):\n",
    "    stacked_obs=long_obs.reshape(-1, sequence_len,4)\n",
    "    long_acts_helper=jnp.concatenate([long_acts,jnp.array([0,0])[None,:]],axis=0)\n",
    "    stacked_acts=long_acts_helper.reshape(-1, sequence_len, 2)[:,:-1,:]\n",
    "    sim = jax.vmap(model.__call__, in_axes=(0, 0,None))(stacked_obs[:,0,:], stacked_acts,tau)\n",
    "    sim_gt = jax.vmap(model_gt.__call__, in_axes=(0, 0,None))(\n",
    "            stacked_obs[:,0], stacked_acts, tau\n",
    "        )\n",
    "    return jnp.mean((sim[:,:,:2] - sim_gt[:,:,:2])[valid(sim)] ** 2)"
   ]
  },
  {
   "cell_type": "code",
   "execution_count": 144,
   "metadata": {},
   "outputs": [],
   "source": [
    "gt_wrap=GtWrapper(motor_env=motor_env)"
   ]
  },
  {
   "cell_type": "code",
   "execution_count": 145,
   "metadata": {},
   "outputs": [],
   "source": [
    "jax_key = jax.random.PRNGKey(14)\n",
    "node_struct= ExpertModel(motor_env=motor_env,psi_layer_sizes=[2,128,128,128,128,2],key=jax_key)\n",
    "grey_node = eqx.tree_deserialise_leaves(f\"final_models/grey_box/Model_4_128_2.eqx\", node_struct) "
   ]
  },
  {
   "cell_type": "code",
   "execution_count": 116,
   "metadata": {},
   "outputs": [],
   "source": [
    "jax_key = jax.random.PRNGKey(2)\n",
    "node_struct=NeuralEulerODE([6,128,128,128,128,4],key=jax_key)\n",
    "black_node = eqx.tree_deserialise_leaves(\"final_models/black_box/Model_eps_4_128_9.eqx\", node_struct)"
   ]
  },
  {
   "cell_type": "code",
   "execution_count": 117,
   "metadata": {},
   "outputs": [],
   "source": [
    "jax_key = jax.random.PRNGKey(2)\n",
    "node_struct=NeuralEulerODE([4,128,128,128,128,2],key=jax_key)\n",
    "node_no_eps = eqx.tree_deserialise_leaves(\"final_models/black_box/Model_4_128_7.eqx\", node_struct)\n",
    "black_node_no_eps=BlackWrapperEps(node=node_no_eps)"
   ]
  },
  {
   "cell_type": "code",
   "execution_count": 148,
   "metadata": {},
   "outputs": [],
   "source": [
    "def mse_metrics_sim(size, seuqence_len):\n",
    "    values_grey=[]\n",
    "    values_black=[]\n",
    "    values_black_no_eps=[]\n",
    "    for i in range(10):\n",
    "        jax_key = jax.random.PRNGKey(2)\n",
    "        node_struct=NeuralEulerODE(([4]+size+[2]),key=jax_key)\n",
    "        node_no_eps = eqx.tree_deserialise_leaves(f\"final_models/black_box/Model_{len(size)}_{size[0]}_{i+1}.eqx\", node_struct)\n",
    "        black_node_no_eps=BlackWrapperEps(node=node_no_eps)\n",
    "        node_struct=NeuralEulerODE(([6]+size+[4]),key=jax_key)\n",
    "        black_node = eqx.tree_deserialise_leaves(f\"final_models/black_box/Model_eps_{len(size)}_{size[0]}_{i+1}.eqx\", node_struct)\n",
    "        node_struct= ExpertModel(motor_env=motor_env,psi_layer_sizes=([2]+size+[2]),key=jax_key)\n",
    "        grey_node = eqx.tree_deserialise_leaves(f\"final_models/grey_box/Model_{len(size)}_{size[0]}_{i+1}.eqx\", node_struct)\n",
    "\n",
    "        value_grey=comp_sim(grey_node,gt_wrap,1e-4,seuqence_len)\n",
    "        value_black=comp_sim(black_node,gt_wrap,1e-4,seuqence_len)\n",
    "        value_black_no_eps=comp_sim(black_node_no_eps,gt_wrap,1e-4,seuqence_len)\n",
    "        values_grey.append(value_grey)\n",
    "        values_black.append(value_black)\n",
    "        values_black_no_eps.append(value_black_no_eps)\n",
    "    \n",
    "    return values_grey, values_black, values_black_no_eps"
   ]
  },
  {
   "cell_type": "code",
   "execution_count": 149,
   "metadata": {},
   "outputs": [],
   "source": [
    "def mse_metrics_sim_valid(size, seuqence_len):\n",
    "    values_grey=[]\n",
    "    values_black=[]\n",
    "    values_black_no_eps=[]\n",
    "    for i in range(10):\n",
    "        jax_key = jax.random.PRNGKey(2)\n",
    "        node_struct=NeuralEulerODE(([4]+size+[2]),key=jax_key)\n",
    "        node_no_eps = eqx.tree_deserialise_leaves(f\"final_models/black_box/Model_{len(size)}_{size[0]}_{i+1}.eqx\", node_struct)\n",
    "        black_node_no_eps=BlackWrapperEps(node=node_no_eps)\n",
    "        node_struct=NeuralEulerODE(([6]+size+[4]),key=jax_key)\n",
    "        black_node = eqx.tree_deserialise_leaves(f\"final_models/black_box/Model_eps_{len(size)}_{size[0]}_{i+1}.eqx\", node_struct)\n",
    "        node_struct= ExpertModel(motor_env=motor_env,psi_layer_sizes=([2]+size+[2]),key=jax_key)\n",
    "        grey_node = eqx.tree_deserialise_leaves(f\"final_models/grey_box/Model_{len(size)}_{size[0]}_{i+1}.eqx\", node_struct)\n",
    "\n",
    "        value_grey=comp_sim_valid(grey_node,gt_wrap,1e-4,seuqence_len)\n",
    "        value_black=comp_sim_valid(black_node,gt_wrap,1e-4,seuqence_len)\n",
    "        value_black_no_eps=comp_sim_valid(black_node_no_eps,gt_wrap,1e-4,seuqence_len)\n",
    "        values_grey.append(value_grey)\n",
    "        values_black.append(value_black)\n",
    "        values_black_no_eps.append(value_black_no_eps)\n",
    "    \n",
    "    return values_grey, values_black, values_black_no_eps"
   ]
  },
  {
   "cell_type": "markdown",
   "metadata": {},
   "source": [
    "## 10 Step simulation"
   ]
  },
  {
   "cell_type": "code",
   "execution_count": 125,
   "metadata": {},
   "outputs": [],
   "source": [
    "from tabulate import tabulate"
   ]
  },
  {
   "cell_type": "code",
   "execution_count": 126,
   "metadata": {},
   "outputs": [
    {
     "name": "stdout",
     "output_type": "stream",
     "text": [
      "[128, 128, 128, 128]\n",
      "| Network          |        Mean |        Best |       Worst |\n",
      "|------------------+-------------+-------------+-------------|\n",
      "| Grey MSE         | 0.000655163 | 0.000525146 | 0.000999845 |\n",
      "| Black MSE        | 0.00155397  | 0.00127055  | 0.0019833   |\n",
      "| Black no eps MSE | 0.00171299  | 0.00115031  | 0.00243973  |\n",
      "[64, 64, 64]\n",
      "| Network          |       Mean |        Best |      Worst |\n",
      "|------------------+------------+-------------+------------|\n",
      "| Grey MSE         | 0.00116    | 0.000838139 | 0.00146083 |\n",
      "| Black MSE        | 0.00219563 | 0.00194263  | 0.00256256 |\n",
      "| Black no eps MSE | 0.00177368 | 0.00160449  | 0.00196618 |\n",
      "[32, 32]\n",
      "| Network          |        Mean |       Best |       Worst |\n",
      "|------------------+-------------+------------+-------------|\n",
      "| Grey MSE         | 2.08301e+08 | 0.00588169 | 1.38201e+09 |\n",
      "| Black MSE        | 0.00633805  | 0.00430503 | 0.0125674   |\n",
      "| Black no eps MSE | 0.0063601   | 0.00411182 | 0.010166    |\n"
     ]
    }
   ],
   "source": [
    "mse_grey,mse_black,mse_black_no_eps=mse_metrics_sim([128,128,128,128],10)\n",
    "print([128,128,128,128])\n",
    "print(tabulate([['Grey MSE', jnp.mean(jnp.array(mse_grey)),jnp.min(jnp.array(mse_grey)),jnp.max(jnp.array(mse_grey))], ['Black MSE',jnp.mean(jnp.array(mse_black)),jnp.min(jnp.array(mse_black)),jnp.max(jnp.array(mse_black))],['Black no eps MSE', jnp.mean(jnp.array(mse_black_no_eps)),jnp.min(jnp.array(mse_black_no_eps)),jnp.max(jnp.array(mse_black_no_eps))]], headers=['Network', 'Mean', \"Best\" ,\"Worst\"], tablefmt='orgtbl'))\n",
    "mse_grey,mse_black,mse_black_no_eps=mse_metrics_sim([64,64,64],10)\n",
    "print([64,64,64])\n",
    "print(tabulate([['Grey MSE', jnp.mean(jnp.array(mse_grey)),jnp.min(jnp.array(mse_grey)),jnp.max(jnp.array(mse_grey))], ['Black MSE',jnp.mean(jnp.array(mse_black)),jnp.min(jnp.array(mse_black)),jnp.max(jnp.array(mse_black))],['Black no eps MSE', jnp.mean(jnp.array(mse_black_no_eps)),jnp.min(jnp.array(mse_black_no_eps)),jnp.max(jnp.array(mse_black_no_eps))]], headers=['Network', 'Mean', \"Best\" ,\"Worst\"], tablefmt='orgtbl'))\n",
    "mse_grey,mse_black,mse_black_no_eps=mse_metrics_sim([32,32],10)\n",
    "print([32,32])\n",
    "print(tabulate([['Grey MSE', jnp.mean(jnp.array(mse_grey)),jnp.min(jnp.array(mse_grey)),jnp.max(jnp.array(mse_grey))], ['Black MSE',jnp.mean(jnp.array(mse_black)),jnp.min(jnp.array(mse_black)),jnp.max(jnp.array(mse_black))],['Black no eps MSE', jnp.mean(jnp.array(mse_black_no_eps)),jnp.min(jnp.array(mse_black_no_eps)),jnp.max(jnp.array(mse_black_no_eps))]], headers=['Network', 'Mean', \"Best\" ,\"Worst\"], tablefmt='orgtbl'))"
   ]
  },
  {
   "cell_type": "markdown",
   "metadata": {},
   "source": [
    "## 25 Step Simulation"
   ]
  },
  {
   "cell_type": "code",
   "execution_count": 127,
   "metadata": {},
   "outputs": [
    {
     "name": "stdout",
     "output_type": "stream",
     "text": [
      "[128, 128, 128, 128]\n",
      "| Network          |        Mean |      Best |         Worst |\n",
      "|------------------+-------------+-----------+---------------|\n",
      "| Grey MSE         |  3.7054e+06 | 0.0142795 |   3.61077e+07 |\n",
      "| Black MSE        | 14.2739     | 0.782439  |  77.4351      |\n",
      "| Black no eps MSE | 47.1335     | 0.944165  | 346.364       |\n",
      "[64, 64, 64]\n",
      "| Network          |        Mean |      Best |       Worst |\n",
      "|------------------+-------------+-----------+-------------|\n",
      "| Grey MSE         | 4.01695e+07 | 0.0210376 | 4.01695e+08 |\n",
      "| Black MSE        | 0.0170216   | 0.0130485 | 0.0214741   |\n",
      "| Black no eps MSE | 0.0360985   | 0.0121823 | 0.0933991   |\n",
      "[32, 32]\n",
      "| Network          |          Mean |      Best |          Worst |\n",
      "|------------------+---------------+-----------+----------------|\n",
      "| Grey MSE         |   7.26397e+08 | 0.0567439 |    5.99838e+09 |\n",
      "| Black MSE        | 315.41        | 0.0278373 | 3153.41        |\n",
      "| Black no eps MSE |   0.0534036   | 0.0257847 |    0.0915619   |\n"
     ]
    }
   ],
   "source": [
    "mse_grey,mse_black,mse_black_no_eps=mse_metrics_sim([128,128,128,128],25)\n",
    "print([128,128,128,128])\n",
    "print(tabulate([['Grey MSE', jnp.mean(jnp.array(mse_grey)),jnp.min(jnp.array(mse_grey)),jnp.max(jnp.array(mse_grey))], ['Black MSE',jnp.mean(jnp.array(mse_black)),jnp.min(jnp.array(mse_black)),jnp.max(jnp.array(mse_black))],['Black no eps MSE', jnp.mean(jnp.array(mse_black_no_eps)),jnp.min(jnp.array(mse_black_no_eps)),jnp.max(jnp.array(mse_black_no_eps))]], headers=['Network', 'Mean', \"Best\" ,\"Worst\"], tablefmt='orgtbl'))\n",
    "mse_grey,mse_black,mse_black_no_eps=mse_metrics_sim([64,64,64],25)\n",
    "print([64,64,64])\n",
    "print(tabulate([['Grey MSE', jnp.mean(jnp.array(mse_grey)),jnp.min(jnp.array(mse_grey)),jnp.max(jnp.array(mse_grey))], ['Black MSE',jnp.mean(jnp.array(mse_black)),jnp.min(jnp.array(mse_black)),jnp.max(jnp.array(mse_black))],['Black no eps MSE', jnp.mean(jnp.array(mse_black_no_eps)),jnp.min(jnp.array(mse_black_no_eps)),jnp.max(jnp.array(mse_black_no_eps))]], headers=['Network', 'Mean', \"Best\" ,\"Worst\"], tablefmt='orgtbl'))\n",
    "mse_grey,mse_black,mse_black_no_eps=mse_metrics_sim([32,32],25)\n",
    "print([32,32])\n",
    "print(tabulate([['Grey MSE', jnp.mean(jnp.array(mse_grey)),jnp.min(jnp.array(mse_grey)),jnp.max(jnp.array(mse_grey))], ['Black MSE',jnp.mean(jnp.array(mse_black)),jnp.min(jnp.array(mse_black)),jnp.max(jnp.array(mse_black))],['Black no eps MSE', jnp.mean(jnp.array(mse_black_no_eps)),jnp.min(jnp.array(mse_black_no_eps)),jnp.max(jnp.array(mse_black_no_eps))]], headers=['Network', 'Mean', \"Best\" ,\"Worst\"], tablefmt='orgtbl'))"
   ]
  },
  {
   "cell_type": "markdown",
   "metadata": {},
   "source": [
    "## 50 Step Simulation"
   ]
  },
  {
   "cell_type": "code",
   "execution_count": 128,
   "metadata": {},
   "outputs": [
    {
     "name": "stdout",
     "output_type": "stream",
     "text": [
      "[128, 128, 128, 128]\n",
      "| Network          |        Mean |             Best |       Worst |\n",
      "|------------------+-------------+------------------+-------------|\n",
      "| Grey MSE         | 3.40969e+06 |      4.86641     | 3.21669e+07 |\n",
      "| Black MSE        | 1.86495e+10 |      5.46111e+06 | 1.41126e+11 |\n",
      "| Black no eps MSE | 6.09737e+12 | 192854           | 6.0857e+13  |\n",
      "[64, 64, 64]\n",
      "| Network          |           Mean |      Best |          Worst |\n",
      "|------------------+----------------+-----------+----------------|\n",
      "| Grey MSE         |    4.17381e+07 | 0.225294  |    4.02454e+08 |\n",
      "| Black MSE        |    0.213451    | 0.057749  |    1.03696     |\n",
      "| Black no eps MSE | 1590.32        | 0.0570274 | 9840.62        |\n",
      "[32, 32]\n",
      "| Network          |        Mean |     Best |        Worst |\n",
      "|------------------+-------------+----------+--------------|\n",
      "| Grey MSE         | 9.70438e+09 | 2.4748   |  9.54507e+10 |\n",
      "| Black MSE        | 3.29138e+13 | 0.119805 |  3.29138e+14 |\n",
      "| Black no eps MSE | 7.083       | 0.10695  | 47.3875      |\n"
     ]
    }
   ],
   "source": [
    "mse_grey,mse_black,mse_black_no_eps=mse_metrics_sim([128,128,128,128],50)\n",
    "print([128,128,128,128])\n",
    "print(tabulate([['Grey MSE', jnp.mean(jnp.array(mse_grey)),jnp.min(jnp.array(mse_grey)),jnp.max(jnp.array(mse_grey))], ['Black MSE',jnp.mean(jnp.array(mse_black)),jnp.min(jnp.array(mse_black)),jnp.max(jnp.array(mse_black))],['Black no eps MSE', jnp.mean(jnp.array(mse_black_no_eps)),jnp.min(jnp.array(mse_black_no_eps)),jnp.max(jnp.array(mse_black_no_eps))]], headers=['Network', 'Mean', \"Best\" ,\"Worst\"], tablefmt='orgtbl'))\n",
    "mse_grey,mse_black,mse_black_no_eps=mse_metrics_sim([64,64,64],50)\n",
    "print([64,64,64])\n",
    "print(tabulate([['Grey MSE', jnp.mean(jnp.array(mse_grey)),jnp.min(jnp.array(mse_grey)),jnp.max(jnp.array(mse_grey))], ['Black MSE',jnp.mean(jnp.array(mse_black)),jnp.min(jnp.array(mse_black)),jnp.max(jnp.array(mse_black))],['Black no eps MSE', jnp.mean(jnp.array(mse_black_no_eps)),jnp.min(jnp.array(mse_black_no_eps)),jnp.max(jnp.array(mse_black_no_eps))]], headers=['Network', 'Mean', \"Best\" ,\"Worst\"], tablefmt='orgtbl'))\n",
    "mse_grey,mse_black,mse_black_no_eps=mse_metrics_sim([32,32],50)\n",
    "print([32,32])\n",
    "print(tabulate([['Grey MSE', jnp.mean(jnp.array(mse_grey)),jnp.min(jnp.array(mse_grey)),jnp.max(jnp.array(mse_grey))], ['Black MSE',jnp.mean(jnp.array(mse_black)),jnp.min(jnp.array(mse_black)),jnp.max(jnp.array(mse_black))],['Black no eps MSE', jnp.mean(jnp.array(mse_black_no_eps)),jnp.min(jnp.array(mse_black_no_eps)),jnp.max(jnp.array(mse_black_no_eps))]], headers=['Network', 'Mean', \"Best\" ,\"Worst\"], tablefmt='orgtbl'))"
   ]
  },
  {
   "cell_type": "markdown",
   "metadata": {},
   "source": [
    "## Only in Valid Space"
   ]
  },
  {
   "cell_type": "markdown",
   "metadata": {},
   "source": [
    "## 10 Step Simulation"
   ]
  },
  {
   "cell_type": "code",
   "execution_count": 150,
   "metadata": {},
   "outputs": [
    {
     "name": "stdout",
     "output_type": "stream",
     "text": [
      "[128, 128, 128, 128]\n",
      "| Network          |        Mean |        Best |       Worst |\n",
      "|------------------+-------------+-------------+-------------|\n",
      "| Grey MSE         | 0.000605121 | 0.000527481 | 0.000840467 |\n",
      "| Black MSE        | 0.0015705   | 0.00122121  | 0.00207414  |\n",
      "| Black no eps MSE | 0.00165472  | 0.00108133  | 0.00270972  |\n",
      "[64, 64, 64]\n",
      "| Network          |       Mean |        Best |      Worst |\n",
      "|------------------+------------+-------------+------------|\n",
      "| Grey MSE         | 0.00116411 | 0.000833692 | 0.00142613 |\n",
      "| Black MSE        | 0.00217164 | 0.00194077  | 0.00255036 |\n",
      "| Black no eps MSE | 0.00177756 | 0.00157465  | 0.00197957 |\n",
      "[32, 32]\n",
      "| Network          |       Mean |       Best |      Worst |\n",
      "|------------------+------------+------------+------------|\n",
      "| Grey MSE         | 0.12746    | 0.00593862 | 0.869248   |\n",
      "| Black MSE        | 0.00620804 | 0.00428449 | 0.0120225  |\n",
      "| Black no eps MSE | 0.0061484  | 0.00407875 | 0.00975078 |\n"
     ]
    }
   ],
   "source": [
    "mse_grey,mse_black,mse_black_no_eps=mse_metrics_sim_valid([128,128,128,128],10)\n",
    "print([128,128,128,128])\n",
    "print(tabulate([['Grey MSE', jnp.mean(jnp.array(mse_grey)),jnp.min(jnp.array(mse_grey)),jnp.max(jnp.array(mse_grey))], ['Black MSE',jnp.mean(jnp.array(mse_black)),jnp.min(jnp.array(mse_black)),jnp.max(jnp.array(mse_black))],['Black no eps MSE', jnp.mean(jnp.array(mse_black_no_eps)),jnp.min(jnp.array(mse_black_no_eps)),jnp.max(jnp.array(mse_black_no_eps))]], headers=['Network', 'Mean', \"Best\" ,\"Worst\"], tablefmt='orgtbl'))\n",
    "mse_grey,mse_black,mse_black_no_eps=mse_metrics_sim_valid([64,64,64],10)\n",
    "print([64,64,64])\n",
    "print(tabulate([['Grey MSE', jnp.mean(jnp.array(mse_grey)),jnp.min(jnp.array(mse_grey)),jnp.max(jnp.array(mse_grey))], ['Black MSE',jnp.mean(jnp.array(mse_black)),jnp.min(jnp.array(mse_black)),jnp.max(jnp.array(mse_black))],['Black no eps MSE', jnp.mean(jnp.array(mse_black_no_eps)),jnp.min(jnp.array(mse_black_no_eps)),jnp.max(jnp.array(mse_black_no_eps))]], headers=['Network', 'Mean', \"Best\" ,\"Worst\"], tablefmt='orgtbl'))\n",
    "mse_grey,mse_black,mse_black_no_eps=mse_metrics_sim_valid([32,32],10)\n",
    "print([32,32])\n",
    "print(tabulate([['Grey MSE', jnp.mean(jnp.array(mse_grey)),jnp.min(jnp.array(mse_grey)),jnp.max(jnp.array(mse_grey))], ['Black MSE',jnp.mean(jnp.array(mse_black)),jnp.min(jnp.array(mse_black)),jnp.max(jnp.array(mse_black))],['Black no eps MSE', jnp.mean(jnp.array(mse_black_no_eps)),jnp.min(jnp.array(mse_black_no_eps)),jnp.max(jnp.array(mse_black_no_eps))]], headers=['Network', 'Mean', \"Best\" ,\"Worst\"], tablefmt='orgtbl'))"
   ]
  },
  {
   "cell_type": "markdown",
   "metadata": {},
   "source": [
    "## 25 Step Simulation"
   ]
  },
  {
   "cell_type": "code",
   "execution_count": 151,
   "metadata": {},
   "outputs": [
    {
     "name": "stdout",
     "output_type": "stream",
     "text": [
      "[128, 128, 128, 128]\n",
      "| Network          |      Mean |       Best |     Worst |\n",
      "|------------------+-----------+------------+-----------|\n",
      "| Grey MSE         | 0.0100655 | 0.00777073 | 0.0133744 |\n",
      "| Black MSE        | 0.175805  | 0.0233582  | 0.629108  |\n",
      "| Black no eps MSE | 1.11032   | 0.0157277  | 4.20932   |\n",
      "[64, 64, 64]\n",
      "| Network          |      Mean |      Best |     Worst |\n",
      "|------------------+-----------+-----------+-----------|\n",
      "| Grey MSE         | 0.0135669 | 0.0103698 | 0.0165172 |\n",
      "| Black MSE        | 0.0153391 | 0.0122927 | 0.0199104 |\n",
      "| Black no eps MSE | 0.0169999 | 0.0113624 | 0.028507  |\n",
      "[32, 32]\n",
      "| Network          |      Mean |      Best |     Worst |\n",
      "|------------------+-----------+-----------+-----------|\n",
      "| Grey MSE         | 0.302205  | 0.0372697 | 1.97482   |\n",
      "| Black MSE        | 0.0359089 | 0.0244702 | 0.0566523 |\n",
      "| Black no eps MSE | 0.0339384 | 0.0219054 | 0.0566452 |\n"
     ]
    }
   ],
   "source": [
    "mse_grey,mse_black,mse_black_no_eps=mse_metrics_sim_valid([128,128,128,128],25)\n",
    "print([128,128,128,128])\n",
    "print(tabulate([['Grey MSE', jnp.mean(jnp.array(mse_grey)),jnp.min(jnp.array(mse_grey)),jnp.max(jnp.array(mse_grey))], ['Black MSE',jnp.mean(jnp.array(mse_black)),jnp.min(jnp.array(mse_black)),jnp.max(jnp.array(mse_black))],['Black no eps MSE', jnp.mean(jnp.array(mse_black_no_eps)),jnp.min(jnp.array(mse_black_no_eps)),jnp.max(jnp.array(mse_black_no_eps))]], headers=['Network', 'Mean', \"Best\" ,\"Worst\"], tablefmt='orgtbl'))\n",
    "mse_grey,mse_black,mse_black_no_eps=mse_metrics_sim_valid([64,64,64],25)\n",
    "print([64,64,64])\n",
    "print(tabulate([['Grey MSE', jnp.mean(jnp.array(mse_grey)),jnp.min(jnp.array(mse_grey)),jnp.max(jnp.array(mse_grey))], ['Black MSE',jnp.mean(jnp.array(mse_black)),jnp.min(jnp.array(mse_black)),jnp.max(jnp.array(mse_black))],['Black no eps MSE', jnp.mean(jnp.array(mse_black_no_eps)),jnp.min(jnp.array(mse_black_no_eps)),jnp.max(jnp.array(mse_black_no_eps))]], headers=['Network', 'Mean', \"Best\" ,\"Worst\"], tablefmt='orgtbl'))\n",
    "mse_grey,mse_black,mse_black_no_eps=mse_metrics_sim_valid([32,32],25)\n",
    "print([32,32])\n",
    "print(tabulate([['Grey MSE', jnp.mean(jnp.array(mse_grey)),jnp.min(jnp.array(mse_grey)),jnp.max(jnp.array(mse_grey))], ['Black MSE',jnp.mean(jnp.array(mse_black)),jnp.min(jnp.array(mse_black)),jnp.max(jnp.array(mse_black))],['Black no eps MSE', jnp.mean(jnp.array(mse_black_no_eps)),jnp.min(jnp.array(mse_black_no_eps)),jnp.max(jnp.array(mse_black_no_eps))]], headers=['Network', 'Mean', \"Best\" ,\"Worst\"], tablefmt='orgtbl'))"
   ]
  },
  {
   "cell_type": "markdown",
   "metadata": {},
   "source": [
    "## 50 Step Simulation"
   ]
  },
  {
   "cell_type": "code",
   "execution_count": 152,
   "metadata": {},
   "outputs": [
    {
     "name": "stdout",
     "output_type": "stream",
     "text": [
      "[128, 128, 128, 128]\n",
      "| Network          |      Mean |      Best |      Worst |\n",
      "|------------------+-----------+-----------+------------|\n",
      "| Grey MSE         | 0.0366195 | 0.028434  |  0.0538853 |\n",
      "| Black MSE        | 1.52092   | 0.0588562 |  9.59197   |\n",
      "| Black no eps MSE | 7.46851   | 0.0485269 | 43.3647    |\n",
      "[64, 64, 64]\n",
      "| Network          |      Mean |      Best |     Worst |\n",
      "|------------------+-----------+-----------+-----------|\n",
      "| Grey MSE         | 0.0417852 | 0.0348464 | 0.0499793 |\n",
      "| Black MSE        | 0.0565089 | 0.040313  | 0.124307  |\n",
      "| Black no eps MSE | 0.0668554 | 0.0392997 | 0.219139  |\n",
      "[32, 32]\n",
      "| Network          |      Mean |      Best |    Worst |\n",
      "|------------------+-----------+-----------+----------|\n",
      "| Grey MSE         | 0.442079  | 0.0912726 | 2.04296  |\n",
      "| Black MSE        | 0.0826741 | 0.0583385 | 0.13996  |\n",
      "| Black no eps MSE | 0.0789943 | 0.0513558 | 0.148605 |\n"
     ]
    }
   ],
   "source": [
    "mse_grey,mse_black,mse_black_no_eps=mse_metrics_sim_valid([128,128,128,128],50)\n",
    "print([128,128,128,128])\n",
    "print(tabulate([['Grey MSE', jnp.mean(jnp.array(mse_grey)),jnp.min(jnp.array(mse_grey)),jnp.max(jnp.array(mse_grey))], ['Black MSE',jnp.mean(jnp.array(mse_black)),jnp.min(jnp.array(mse_black)),jnp.max(jnp.array(mse_black))],['Black no eps MSE', jnp.mean(jnp.array(mse_black_no_eps)),jnp.min(jnp.array(mse_black_no_eps)),jnp.max(jnp.array(mse_black_no_eps))]], headers=['Network', 'Mean', \"Best\" ,\"Worst\"], tablefmt='orgtbl'))\n",
    "mse_grey,mse_black,mse_black_no_eps=mse_metrics_sim_valid([64,64,64],50)\n",
    "print([64,64,64])\n",
    "print(tabulate([['Grey MSE', jnp.mean(jnp.array(mse_grey)),jnp.min(jnp.array(mse_grey)),jnp.max(jnp.array(mse_grey))], ['Black MSE',jnp.mean(jnp.array(mse_black)),jnp.min(jnp.array(mse_black)),jnp.max(jnp.array(mse_black))],['Black no eps MSE', jnp.mean(jnp.array(mse_black_no_eps)),jnp.min(jnp.array(mse_black_no_eps)),jnp.max(jnp.array(mse_black_no_eps))]], headers=['Network', 'Mean', \"Best\" ,\"Worst\"], tablefmt='orgtbl'))\n",
    "mse_grey,mse_black,mse_black_no_eps=mse_metrics_sim_valid([32,32],50)\n",
    "print([32,32])\n",
    "print(tabulate([['Grey MSE', jnp.mean(jnp.array(mse_grey)),jnp.min(jnp.array(mse_grey)),jnp.max(jnp.array(mse_grey))], ['Black MSE',jnp.mean(jnp.array(mse_black)),jnp.min(jnp.array(mse_black)),jnp.max(jnp.array(mse_black))],['Black no eps MSE', jnp.mean(jnp.array(mse_black_no_eps)),jnp.min(jnp.array(mse_black_no_eps)),jnp.max(jnp.array(mse_black_no_eps))]], headers=['Network', 'Mean', \"Best\" ,\"Worst\"], tablefmt='orgtbl'))"
   ]
  }
 ],
 "metadata": {
  "kernelspec": {
   "display_name": "venv_proj",
   "language": "python",
   "name": "python3"
  },
  "language_info": {
   "codemirror_mode": {
    "name": "ipython",
    "version": 3
   },
   "file_extension": ".py",
   "mimetype": "text/x-python",
   "name": "python",
   "nbconvert_exporter": "python",
   "pygments_lexer": "ipython3",
   "version": "3.11.9"
  }
 },
 "nbformat": 4,
 "nbformat_minor": 2
}
