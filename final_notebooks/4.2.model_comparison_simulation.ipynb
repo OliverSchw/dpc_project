{
 "cells": [
  {
   "cell_type": "code",
   "execution_count": 1,
   "metadata": {},
   "outputs": [],
   "source": [
    "import jax\n",
    "import jax.nn as jnn\n",
    "import jax.numpy as jnp\n",
    "import numpy as np\n",
    "\n",
    "import equinox as eqx\n",
    "import diffrax\n",
    "import optax\n",
    "from functools import partial"
   ]
  },
  {
   "cell_type": "code",
   "execution_count": 2,
   "metadata": {},
   "outputs": [
    {
     "name": "stderr",
     "output_type": "stream",
     "text": [
      "2025-03-04 16:44:03.772344: W external/xla/xla/service/gpu/nvptx_compiler.cc:760] The NVIDIA driver's CUDA version is 12.2 which is older than the ptxas CUDA version (12.6.77). Because the driver is older than the ptxas version, XLA is disabling parallel compilation, which may slow down compilation. You should update your NVIDIA driver or use the NVIDIA-provided CUDA forward compatibility packages.\n"
     ]
    }
   ],
   "source": [
    "import os\n",
    "os.chdir(\"..\")\n",
    "from policy.policy_training import DPCTrainer\n",
    "from exciting_environments.pmsm.pmsm_env import PMSM, step_eps\n",
    "import jax_dataclasses as jdc\n",
    "from models.models import NeuralEulerODE,MLP\n",
    "#from policy.networks import MLP#,MLP2\n",
    "import matplotlib.pyplot as plt"
   ]
  },
  {
   "cell_type": "code",
   "execution_count": 3,
   "metadata": {},
   "outputs": [],
   "source": [
    "gpus = jax.devices()\n",
    "jax.config.update(\"jax_default_device\", gpus[1])\n",
    "jax.config.update(\"jax_enable_x64\", False)"
   ]
  },
  {
   "cell_type": "code",
   "execution_count": 4,
   "metadata": {},
   "outputs": [],
   "source": [
    "class ExpertModel(eqx.Module):\n",
    "    motor_env: PMSM = eqx.field(static=True)\n",
    "    psi_dq_mlp: MLP\n",
    "\n",
    "    def __init__(self, motor_env, psi_layer_sizes, key):\n",
    "        self.motor_env = motor_env\n",
    "        key, subkey = jax.random.split(key)\n",
    "        self.psi_dq_mlp = MLP(\n",
    "            psi_layer_sizes, key=subkey, hidden_activation=jax.nn.swish, output_activation=jax.nn.tanh\n",
    "        )\n",
    "\n",
    "    def __call__(self, init_obs, actions, tau):\n",
    "\n",
    "        def body_fun(carry, action):\n",
    "            obs = carry\n",
    "            obs = self.step(obs, action, tau)\n",
    "            return obs, obs\n",
    "\n",
    "        _, observations = jax.lax.scan(body_fun, init_obs, actions)\n",
    "        observations = jnp.concatenate([init_obs[None, :], observations], axis=0)\n",
    "        return observations\n",
    "\n",
    "    def step(self, obs, action, tau):\n",
    "        obs1, _ = self.motor_env.reset(self.motor_env.env_properties)  #\n",
    "        obs1 = obs1.at[2].set((3 * 1500 / 60 * 2 * jnp.pi) / (2 * jnp.pi * 3 * 11000 / 60))\n",
    "        obs1 = obs1.at[0].set(obs[0])\n",
    "        obs1 = obs1.at[1].set(obs[1])\n",
    "        obs1 = obs1.at[4].set(obs[2])\n",
    "        obs1 = obs1.at[5].set(obs[3])\n",
    "        state = self.motor_env.generate_state_from_observation(obs1, self.motor_env.env_properties)\n",
    "        # obs,_= self.motor_env.step(state, action, self.motor_env.env_properties)\n",
    "        obs, _ = self.step_expert(state, action, self.motor_env.env_properties)\n",
    "        return jnp.concatenate([obs[0:2], obs[4:6]])\n",
    "\n",
    "    #@partial(jax.jit, static_argnums=[0, 3])\n",
    "    def ode_step(self, state, u_dq, properties):\n",
    "        \"\"\"Computes state by simulating one step.\n",
    "\n",
    "        Args:\n",
    "            system_state: The state from which to calculate state for the next step.\n",
    "            u_dq: The action to apply to the environment.\n",
    "            properties: Parameters and settings of the environment, that do not change over time.\n",
    "\n",
    "        Returns:\n",
    "            state: The computed state after the one step simulation.\n",
    "        \"\"\"\n",
    "        system_state = state.physical_state\n",
    "        omega_el = system_state.omega_el\n",
    "        i_d = system_state.i_d\n",
    "        i_q = system_state.i_q\n",
    "        eps = system_state.epsilon\n",
    "\n",
    "        args = (u_dq, properties.static_params)\n",
    "        if properties.saturated:\n",
    "\n",
    "            def vector_field(t, y, args):\n",
    "                i_d, i_q = y\n",
    "                u_dq, _ = args\n",
    "\n",
    "                J_k = jnp.array([[0, -1], [1, 0]])\n",
    "                i_dq = jnp.array([i_d, i_q])\n",
    "                p_d = {q: interp(jnp.array([i_d, i_q])) for q, interp in self.motor_env.LUT_interpolators.items()}\n",
    "                i_dq_norm = i_dq / properties.physical_constraints.i_d\n",
    "\n",
    "                p_d[\"Psi_d\"] = self.Psi_d(i_dq_norm)\n",
    "                p_d[\"Psi_q\"] = self.Psi_q(i_dq_norm)\n",
    "                p_d[\"L_dd\"] = self.L_dd(i_dq_norm)\n",
    "                p_d[\"L_dq\"] = self.L_dq(i_dq_norm)\n",
    "                p_d[\"L_qd\"] = self.L_qd(i_dq_norm)\n",
    "                p_d[\"L_qq\"] = self.L_qq(i_dq_norm)\n",
    "\n",
    "                L_diff = jnp.column_stack([p_d[q] for q in [\"L_dd\", \"L_dq\", \"L_qd\", \"L_qq\"]]).reshape(2, 2)\n",
    "                L_diff_inv = jnp.linalg.inv(L_diff)\n",
    "                psi_dq = jnp.column_stack([p_d[psi] for psi in [\"Psi_d\", \"Psi_q\"]]).reshape(-1)\n",
    "                di_dq_1 = jnp.einsum(\n",
    "                    \"ij,j->i\",\n",
    "                    (-L_diff_inv * properties.static_params.r_s),\n",
    "                    i_dq,\n",
    "                )\n",
    "                di_dq_2 = jnp.einsum(\"ik,k->i\", L_diff_inv, u_dq)\n",
    "                di_dq_3 = jnp.einsum(\"ij,jk,k->i\", -L_diff_inv, J_k, psi_dq) * omega_el\n",
    "                i_dq_diff = di_dq_1 + di_dq_2 + di_dq_3\n",
    "                d_y = i_dq_diff[0], i_dq_diff[1]\n",
    "\n",
    "                return d_y\n",
    "\n",
    "        else:\n",
    "\n",
    "            def vector_field(t, y, args):\n",
    "                i_d, i_q = y\n",
    "                u_dq, params = args\n",
    "                u_d = u_dq[0]\n",
    "                u_q = u_dq[1]\n",
    "                l_d = params.l_d\n",
    "                l_q = params.l_q\n",
    "                psi_p = params.psi_p\n",
    "                r_s = params.r_s\n",
    "                i_d_diff = (u_d + omega_el * l_q * i_q - r_s * i_d) / l_d\n",
    "                i_q_diff = (u_q - omega_el * (l_d * i_d + psi_p) - r_s * i_q) / l_q\n",
    "                d_y = i_d_diff, i_q_diff\n",
    "                return d_y\n",
    "\n",
    "        term = diffrax.ODETerm(vector_field)\n",
    "        t0 = 0\n",
    "        t1 = self.motor_env.tau\n",
    "        y0 = tuple([i_d, i_q])\n",
    "        env_state = self.motor_env._solver.init(term, t0, t1, y0, args)\n",
    "        y, _, _, env_state, _ = self.motor_env._solver.step(term, t0, t1, y0, args, env_state, made_jump=False)\n",
    "\n",
    "        i_d_k1 = y[0]\n",
    "        i_q_k1 = y[1]\n",
    "\n",
    "        if properties.saturated:\n",
    "            torque = jnp.array(\n",
    "                [self.motor_env.currents_to_torque_saturated(i_d=i_d_k1, i_q=i_q_k1, env_properties=properties)]\n",
    "            )[0]\n",
    "        else:\n",
    "            torque = jnp.array([self.motor_env.currents_to_torque(i_d_k1, i_q_k1, properties)])[0]\n",
    "\n",
    "        with jdc.copy_and_mutate(system_state, validate=False) as system_state_next:\n",
    "            system_state_next.epsilon = step_eps(eps, omega_el, self.motor_env.tau, 1.0)\n",
    "            system_state_next.i_d = i_d_k1\n",
    "            system_state_next.i_q = i_q_k1\n",
    "            system_state_next.torque = torque  # [0]\n",
    "\n",
    "        with jdc.copy_and_mutate(state, validate=False) as state_next:\n",
    "            state_next.physical_state = system_state_next\n",
    "        return state_next\n",
    "\n",
    "    #@partial(jax.jit, static_argnums=[0, 3])\n",
    "    def step_expert(self, state, action, env_properties):\n",
    "        \"\"\"Computes state by simulating one step taking the deadtime into account.\n",
    "\n",
    "        Args:\n",
    "            system_state: The state from which to calculate state for the next step.\n",
    "            action: The action to apply to the environment.\n",
    "            properties: Parameters and settings of the environment, that do not change over time.\n",
    "\n",
    "        Returns:\n",
    "            state: The computed state after the one step simulation.\n",
    "        \"\"\"\n",
    "\n",
    "        action = self.motor_env.constraint_denormalization(action, state, env_properties)\n",
    "\n",
    "        action_buffer = jnp.array([state.physical_state.u_d_buffer, state.physical_state.u_q_buffer])\n",
    "\n",
    "        if env_properties.static_params.deadtime > 0:\n",
    "\n",
    "            updated_buffer = jnp.array([action[0], action[1]])\n",
    "            u_dq = action_buffer\n",
    "        else:\n",
    "            updated_buffer = action_buffer\n",
    "\n",
    "            u_dq = action\n",
    "\n",
    "        next_state = self.ode_step(state, u_dq, env_properties)\n",
    "        with jdc.copy_and_mutate(next_state, validate=True) as next_state_update:\n",
    "            next_state_update.physical_state.u_d_buffer = updated_buffer[0]\n",
    "            next_state_update.physical_state.u_q_buffer = updated_buffer[1]\n",
    "\n",
    "        observation = self.motor_env.generate_observation(next_state_update, env_properties)\n",
    "        return observation, next_state_update\n",
    "\n",
    "    def Psi_d(self, i_dq_norm):\n",
    "        return self.psi_dq_mlp(i_dq_norm)[0]  #  self.motor_env.LUT_interpolators[\"Psi_d\"](i_dq)[0]\n",
    "\n",
    "    def Psi_q(self, i_dq_norm):\n",
    "        return self.psi_dq_mlp(i_dq_norm)[1]  #   self.motor_env.LUT_interpolators[\"Psi_q\"](i_dq)[0]\n",
    "\n",
    "    def Psi_d_physical(self, i_dq):\n",
    "        i_dq_norm = i_dq / self.motor_env.env_properties.physical_constraints.i_d\n",
    "        return self.Psi_d(i_dq_norm)\n",
    "\n",
    "    def Psi_q_physical(self, i_dq):\n",
    "        i_dq_norm = i_dq / self.motor_env.env_properties.physical_constraints.i_d\n",
    "        return self.Psi_q(i_dq_norm)\n",
    "\n",
    "    def l_d_dq(self, i_dq):\n",
    "        return jax.grad(self.Psi_d_physical)(i_dq)\n",
    "\n",
    "    def l_q_dq(self, i_dq):\n",
    "        return jax.grad(self.Psi_q_physical)(i_dq)\n",
    "\n",
    "    def L_dd(self, i_dq_norm):\n",
    "        i_dq = i_dq_norm * self.motor_env.env_properties.physical_constraints.i_d\n",
    "        return self.l_d_dq(i_dq)[0]\n",
    "\n",
    "    def L_dq(self, i_dq_norm):\n",
    "        i_dq = i_dq_norm * self.motor_env.env_properties.physical_constraints.i_d\n",
    "        return self.l_d_dq(i_dq)[1]\n",
    "\n",
    "    def L_qd(self, i_dq_norm):\n",
    "        i_dq = i_dq_norm * self.motor_env.env_properties.physical_constraints.i_d\n",
    "        return self.l_q_dq(i_dq)[0]\n",
    "\n",
    "    def L_qq(self, i_dq_norm):\n",
    "        i_dq = i_dq_norm * self.motor_env.env_properties.physical_constraints.i_d\n",
    "        return self.l_q_dq(i_dq)[1]\n",
    "\n",
    "    def L_matrix(self, i_dq):\n",
    "        L_dd = self.L_dd(i_dq)\n",
    "        L_dq = self.L_dq(i_dq)\n",
    "        L_qd = self.L_qd(i_dq)\n",
    "        L_qq = self.L_qq(i_dq)\n",
    "        mat = jnp.array([[L_dd, L_dq], [L_qd, L_qq]])\n",
    "        return mat\n"
   ]
  },
  {
   "cell_type": "code",
   "execution_count": 5,
   "metadata": {},
   "outputs": [],
   "source": [
    "motor_env = PMSM(\n",
    "    saturated=True,\n",
    "    LUT_motor_name=\"BRUSA\",\n",
    "    batch_size=1,\n",
    "    control_state=[], \n",
    "    static_params = {\n",
    "            \"p\": 3,\n",
    "            \"r_s\": 15e-3,\n",
    "            \"l_d\": 0.37e-3,\n",
    "            \"l_q\": 1.2e-3,\n",
    "            \"psi_p\": 65.6e-3,\n",
    "            \"deadtime\": 0,\n",
    "    })"
   ]
  },
  {
   "cell_type": "code",
   "execution_count": 6,
   "metadata": {},
   "outputs": [],
   "source": [
    "import json\n",
    "with open(\"model_data/dmpe1.json\") as json_data:\n",
    "    d = json.load(json_data)\n",
    "long_obs = jnp.array(d[\"observations\"])\n",
    "long_acts = jnp.array(d[\"actions\"])\n",
    "def step_eps(eps, omega_el, tau, tau_scale=1.0):\n",
    "    eps += omega_el * tau * tau_scale\n",
    "    eps %= 2 * jnp.pi\n",
    "    boolean = eps > jnp.pi\n",
    "    summation_mask = boolean * -2 * jnp.pi\n",
    "    eps = eps + summation_mask\n",
    "    return eps\n",
    "eps = [0]\n",
    "for i in range(long_obs.shape[0]):\n",
    "    eps.append(step_eps(eps[-1], 3 * 1500 / 60 * 2 * jnp.pi, 1e-4))\n",
    "cos_long_eps = jnp.cos(jnp.array(eps[:-1])[:, None])\n",
    "sin_long_eps = jnp.sin(jnp.array(eps[:-1])[:, None])\n",
    "long_obs = jnp.hstack([long_obs, cos_long_eps, sin_long_eps])\n"
   ]
  },
  {
   "cell_type": "code",
   "execution_count": 7,
   "metadata": {},
   "outputs": [],
   "source": [
    "class BlackWrapperEps(eqx.Module):\n",
    "    node: eqx.Module\n",
    "    def __init__(self, node):\n",
    "        self.node = node\n",
    "\n",
    "    def __call__(self, init_obs, actions, tau):\n",
    "        init_obs=init_obs[:2]\n",
    "        return self.node(init_obs, actions, tau)\n",
    "\n",
    "    def step(self, obs, action, tau):\n",
    "        obs1 = obs[:2]\n",
    "        return self.node.step(obs1, action, tau)"
   ]
  },
  {
   "cell_type": "code",
   "execution_count": 8,
   "metadata": {},
   "outputs": [],
   "source": [
    "class GtWrapper(eqx.Module):\n",
    "    motor_env: PMSM = eqx.field(static=True)\n",
    "    def __init__(self, motor_env):\n",
    "        self.motor_env = motor_env\n",
    "\n",
    "    def __call__(self, init_obs, actions, tau):\n",
    "\n",
    "        def body_fun(carry, action):\n",
    "            obs = carry\n",
    "            obs = self.step(obs, action, tau)\n",
    "            return obs, obs\n",
    "\n",
    "        _, observations = jax.lax.scan(body_fun, init_obs, actions)\n",
    "        observations = jnp.concatenate([init_obs[None, :], observations], axis=0)\n",
    "        return observations\n",
    "\n",
    "    def step(self, obs, action, tau):\n",
    "        obs1, _ = self.motor_env.reset(self.motor_env.env_properties)  #\n",
    "        obs1 = obs1.at[2].set((3 * 1500 / 60 * 2 * jnp.pi) / (2 * jnp.pi * 3 * 11000 / 60))\n",
    "        obs1 = obs1.at[0].set(obs[0])\n",
    "        obs1 = obs1.at[1].set(obs[1])\n",
    "        obs1 = obs1.at[4].set(obs[2])\n",
    "        obs1 = obs1.at[5].set(obs[3])\n",
    "        state = self.motor_env.generate_state_from_observation(obs1, self.motor_env.env_properties)\n",
    "        # obs,_= self.motor_env.step(state, action, self.motor_env.env_properties)\n",
    "        obs, _ = self.motor_env.step(state, action, self.motor_env.env_properties)\n",
    "        return jnp.concatenate([obs[0:2], obs[4:6]])"
   ]
  },
  {
   "cell_type": "code",
   "execution_count": 9,
   "metadata": {},
   "outputs": [
    {
     "data": {
      "text/plain": [
       "Array([0., 0., 1., 0.], dtype=float32)"
      ]
     },
     "execution_count": 9,
     "metadata": {},
     "output_type": "execute_result"
    }
   ],
   "source": [
    "long_obs[0,:]"
   ]
  },
  {
   "cell_type": "code",
   "execution_count": 10,
   "metadata": {},
   "outputs": [],
   "source": [
    "long_acts2=jnp.concatenate([long_acts,jnp.array([0,0])[None,:]],axis=0)"
   ]
  },
  {
   "cell_type": "code",
   "execution_count": 11,
   "metadata": {},
   "outputs": [
    {
     "data": {
      "text/plain": [
       "(50000, 4)"
      ]
     },
     "execution_count": 11,
     "metadata": {},
     "output_type": "execute_result"
    }
   ],
   "source": [
    "long_obs.shape"
   ]
  },
  {
   "cell_type": "code",
   "execution_count": 42,
   "metadata": {},
   "outputs": [],
   "source": [
    "def comp_sim(model,model_gt,tau,sequence_len):\n",
    "    stacked_obs=long_obs.reshape(-1, sequence_len,4)\n",
    "    long_acts_helper=jnp.concatenate([long_acts,jnp.array([0,0])[None,:]],axis=0)\n",
    "    stacked_acts=long_acts_helper.reshape(-1, sequence_len, 2)[:,:-1,:]\n",
    "    sim = jax.vmap(model.__call__, in_axes=(0, 0,None))(stacked_obs[:,0,:], stacked_acts,tau)\n",
    "    sim_gt = jax.vmap(model_gt.__call__, in_axes=(0, 0,None))(\n",
    "            stacked_obs[:,0], stacked_acts, tau\n",
    "        )\n",
    "    return jnp.nanmean((sim[:,:,:2] - sim_gt[:,:,:2]) ** 2)"
   ]
  },
  {
   "cell_type": "code",
   "execution_count": 13,
   "metadata": {},
   "outputs": [],
   "source": [
    "def valid(obs):\n",
    "    return (obs[:,:,0]**2+obs[:,:,0]**2)<=1\n",
    "def comp_sim_valid(model,model_gt,tau,sequence_len):\n",
    "    stacked_obs=long_obs.reshape(-1, sequence_len,4)\n",
    "    long_acts_helper=jnp.concatenate([long_acts,jnp.array([0,0])[None,:]],axis=0)\n",
    "    stacked_acts=long_acts_helper.reshape(-1, sequence_len, 2)[:,:-1,:]\n",
    "    sim = jax.vmap(model.__call__, in_axes=(0, 0,None))(stacked_obs[:,0,:], stacked_acts,tau)\n",
    "    sim_gt = jax.vmap(model_gt.__call__, in_axes=(0, 0,None))(\n",
    "            stacked_obs[:,0], stacked_acts, tau\n",
    "        )\n",
    "    return jnp.mean((sim[:,:,:2] - sim_gt[:,:,:2])[valid(sim)] ** 2)"
   ]
  },
  {
   "cell_type": "code",
   "execution_count": 14,
   "metadata": {},
   "outputs": [],
   "source": [
    "gt_wrap=GtWrapper(motor_env=motor_env)"
   ]
  },
  {
   "cell_type": "code",
   "execution_count": 15,
   "metadata": {},
   "outputs": [],
   "source": [
    "jax_key = jax.random.PRNGKey(14)\n",
    "node_struct= ExpertModel(motor_env=motor_env,psi_layer_sizes=[2,128,128,128,128,2],key=jax_key)\n",
    "grey_node = eqx.tree_deserialise_leaves(f\"final_models/grey_box/Model_4_128_2.eqx\", node_struct) "
   ]
  },
  {
   "cell_type": "code",
   "execution_count": 16,
   "metadata": {},
   "outputs": [],
   "source": [
    "jax_key = jax.random.PRNGKey(2)\n",
    "node_struct=NeuralEulerODE([6,128,128,128,128,4],key=jax_key)\n",
    "black_node = eqx.tree_deserialise_leaves(\"final_models/black_box/Model_eps_4_128_9.eqx\", node_struct)"
   ]
  },
  {
   "cell_type": "code",
   "execution_count": 17,
   "metadata": {},
   "outputs": [],
   "source": [
    "jax_key = jax.random.PRNGKey(2)\n",
    "node_struct=NeuralEulerODE([4,128,128,128,128,2],key=jax_key)\n",
    "node_no_eps = eqx.tree_deserialise_leaves(\"final_models/black_box/Model_4_128_7.eqx\", node_struct)\n",
    "black_node_no_eps=BlackWrapperEps(node=node_no_eps)"
   ]
  },
  {
   "cell_type": "code",
   "execution_count": 18,
   "metadata": {},
   "outputs": [],
   "source": [
    "def mse_metrics_sim(size, seuqence_len):\n",
    "    values_grey=[]\n",
    "    values_black=[]\n",
    "    values_black_no_eps=[]\n",
    "    for i in range(10):\n",
    "        jax_key = jax.random.PRNGKey(2)\n",
    "        node_struct=NeuralEulerODE(([4]+size+[2]),key=jax_key)\n",
    "        node_no_eps = eqx.tree_deserialise_leaves(f\"final_models/black_box/Model_{len(size)}_{size[0]}_{i+1}.eqx\", node_struct)\n",
    "        black_node_no_eps=BlackWrapperEps(node=node_no_eps)\n",
    "        node_struct=NeuralEulerODE(([6]+size+[4]),key=jax_key)\n",
    "        black_node = eqx.tree_deserialise_leaves(f\"final_models/black_box/Model_eps_{len(size)}_{size[0]}_{i+1}.eqx\", node_struct)\n",
    "        node_struct= ExpertModel(motor_env=motor_env,psi_layer_sizes=([2]+size+[2]),key=jax_key)\n",
    "        grey_node = eqx.tree_deserialise_leaves(f\"final_models/grey_box/Model_{len(size)}_{size[0]}_{i+1}.eqx\", node_struct)\n",
    "\n",
    "        value_grey=comp_sim(grey_node,gt_wrap,1e-4,seuqence_len)\n",
    "        value_black=comp_sim(black_node,gt_wrap,1e-4,seuqence_len)\n",
    "        value_black_no_eps=comp_sim(black_node_no_eps,gt_wrap,1e-4,seuqence_len)\n",
    "        values_grey.append(value_grey)\n",
    "        values_black.append(value_black)\n",
    "        values_black_no_eps.append(value_black_no_eps)\n",
    "    \n",
    "    return values_grey, values_black, values_black_no_eps"
   ]
  },
  {
   "cell_type": "code",
   "execution_count": 19,
   "metadata": {},
   "outputs": [],
   "source": [
    "def mse_metrics_sim_valid(size, seuqence_len):\n",
    "    values_grey=[]\n",
    "    values_black=[]\n",
    "    values_black_no_eps=[]\n",
    "    for i in range(10):\n",
    "        jax_key = jax.random.PRNGKey(2)\n",
    "        node_struct=NeuralEulerODE(([4]+size+[2]),key=jax_key)\n",
    "        node_no_eps = eqx.tree_deserialise_leaves(f\"final_models/black_box/Model_{len(size)}_{size[0]}_{i+1}.eqx\", node_struct)\n",
    "        black_node_no_eps=BlackWrapperEps(node=node_no_eps)\n",
    "        node_struct=NeuralEulerODE(([6]+size+[4]),key=jax_key)\n",
    "        black_node = eqx.tree_deserialise_leaves(f\"final_models/black_box/Model_eps_{len(size)}_{size[0]}_{i+1}.eqx\", node_struct)\n",
    "        node_struct= ExpertModel(motor_env=motor_env,psi_layer_sizes=([2]+size+[2]),key=jax_key)\n",
    "        grey_node = eqx.tree_deserialise_leaves(f\"final_models/grey_box/Model_{len(size)}_{size[0]}_{i+1}.eqx\", node_struct)\n",
    "\n",
    "        value_grey=comp_sim_valid(grey_node,gt_wrap,1e-4,seuqence_len)\n",
    "        value_black=comp_sim_valid(black_node,gt_wrap,1e-4,seuqence_len)\n",
    "        value_black_no_eps=comp_sim_valid(black_node_no_eps,gt_wrap,1e-4,seuqence_len)\n",
    "        values_grey.append(value_grey)\n",
    "        values_black.append(value_black)\n",
    "        values_black_no_eps.append(value_black_no_eps)\n",
    "    \n",
    "    return values_grey, values_black, values_black_no_eps"
   ]
  },
  {
   "cell_type": "markdown",
   "metadata": {},
   "source": [
    "## 10 Step simulation"
   ]
  },
  {
   "cell_type": "code",
   "execution_count": 20,
   "metadata": {},
   "outputs": [],
   "source": [
    "from tabulate import tabulate"
   ]
  },
  {
   "cell_type": "code",
   "execution_count": 43,
   "metadata": {},
   "outputs": [],
   "source": [
    "mse_grey_10_big,mse_black,mse_black_no_eps_10_big=mse_metrics_sim([128,128,128,128],10)\n",
    "#print([128,128,128,128])\n",
    "#print(tabulate([['Grey MSE', jnp.mean(jnp.array(mse_grey)),jnp.min(jnp.array(mse_grey)),jnp.max(jnp.array(mse_grey))], ['Black MSE',jnp.mean(jnp.array(mse_black)),jnp.min(jnp.array(mse_black)),jnp.max(jnp.array(mse_black))],['Black no eps MSE', jnp.mean(jnp.array(mse_black_no_eps)),jnp.min(jnp.array(mse_black_no_eps)),jnp.max(jnp.array(mse_black_no_eps))]], headers=['Network', 'Mean', \"Best\" ,\"Worst\"], tablefmt='orgtbl'))\n",
    "mse_grey_10_mid,mse_black,mse_black_no_eps_10_mid=mse_metrics_sim([64,64,64],10)\n",
    "#print([64,64,64])\n",
    "#print(tabulate([['Grey MSE', jnp.mean(jnp.array(mse_grey)),jnp.min(jnp.array(mse_grey)),jnp.max(jnp.array(mse_grey))], ['Black MSE',jnp.mean(jnp.array(mse_black)),jnp.min(jnp.array(mse_black)),jnp.max(jnp.array(mse_black))],['Black no eps MSE', jnp.mean(jnp.array(mse_black_no_eps)),jnp.min(jnp.array(mse_black_no_eps)),jnp.max(jnp.array(mse_black_no_eps))]], headers=['Network', 'Mean', \"Best\" ,\"Worst\"], tablefmt='orgtbl'))\n",
    "mse_grey_10_small,mse_black,mse_black_no_eps_10_small=mse_metrics_sim([32,32],10)\n",
    "#print([32,32])\n",
    "#print(tabulate([['Grey MSE', jnp.mean(jnp.array(mse_grey)),jnp.min(jnp.array(mse_grey)),jnp.max(jnp.array(mse_grey))], ['Black MSE',jnp.mean(jnp.array(mse_black)),jnp.min(jnp.array(mse_black)),jnp.max(jnp.array(mse_black))],['Black no eps MSE', jnp.mean(jnp.array(mse_black_no_eps)),jnp.min(jnp.array(mse_black_no_eps)),jnp.max(jnp.array(mse_black_no_eps))]], headers=['Network', 'Mean', \"Best\" ,\"Worst\"], tablefmt='orgtbl'))"
   ]
  },
  {
   "cell_type": "markdown",
   "metadata": {},
   "source": [
    "## 25 Step Simulation"
   ]
  },
  {
   "cell_type": "code",
   "execution_count": 44,
   "metadata": {},
   "outputs": [],
   "source": [
    "mse_grey_25_big,mse_black,mse_black_no_eps_25_big=mse_metrics_sim([128,128,128,128],25)\n",
    "#print([128,128,128,128])\n",
    "#print(tabulate([['Grey MSE', jnp.mean(jnp.array(mse_grey)),jnp.min(jnp.array(mse_grey)),jnp.max(jnp.array(mse_grey))], ['Black MSE',jnp.mean(jnp.array(mse_black)),jnp.min(jnp.array(mse_black)),jnp.max(jnp.array(mse_black))],['Black no eps MSE', jnp.mean(jnp.array(mse_black_no_eps)),jnp.min(jnp.array(mse_black_no_eps)),jnp.max(jnp.array(mse_black_no_eps))]], headers=['Network', 'Mean', \"Best\" ,\"Worst\"], tablefmt='orgtbl'))\n",
    "mse_grey_25_mid,mse_black,mse_black_no_eps_25_mid=mse_metrics_sim([64,64,64],25)\n",
    "#print([64,64,64])\n",
    "#print(tabulate([['Grey MSE', jnp.mean(jnp.array(mse_grey)),jnp.min(jnp.array(mse_grey)),jnp.max(jnp.array(mse_grey))], ['Black MSE',jnp.mean(jnp.array(mse_black)),jnp.min(jnp.array(mse_black)),jnp.max(jnp.array(mse_black))],['Black no eps MSE', jnp.mean(jnp.array(mse_black_no_eps)),jnp.min(jnp.array(mse_black_no_eps)),jnp.max(jnp.array(mse_black_no_eps))]], headers=['Network', 'Mean', \"Best\" ,\"Worst\"], tablefmt='orgtbl'))\n",
    "mse_grey_25_small,mse_black,mse_black_no_eps_25_small=mse_metrics_sim([32,32],25)\n",
    "#print([32,32])\n",
    "#print(tabulate([['Grey MSE', jnp.mean(jnp.array(mse_grey)),jnp.min(jnp.array(mse_grey)),jnp.max(jnp.array(mse_grey))], ['Black MSE',jnp.mean(jnp.array(mse_black)),jnp.min(jnp.array(mse_black)),jnp.max(jnp.array(mse_black))],['Black no eps MSE', jnp.mean(jnp.array(mse_black_no_eps)),jnp.min(jnp.array(mse_black_no_eps)),jnp.max(jnp.array(mse_black_no_eps))]], headers=['Network', 'Mean', \"Best\" ,\"Worst\"], tablefmt='orgtbl'))"
   ]
  },
  {
   "cell_type": "markdown",
   "metadata": {},
   "source": [
    "## 50 Step Simulation"
   ]
  },
  {
   "cell_type": "code",
   "execution_count": 45,
   "metadata": {},
   "outputs": [
    {
     "name": "stderr",
     "output_type": "stream",
     "text": [
      "E0304 17:13:39.877281 1814844 pjrt_stream_executor_client.cc:2826] Execution of replica 0 failed: RESOURCE_EXHAUSTED: Failed to get module function:CUDA_ERROR_OUT_OF_MEMORY: out of memory\n"
     ]
    },
    {
     "ename": "XlaRuntimeError",
     "evalue": "RESOURCE_EXHAUSTED: Failed to get module function:CUDA_ERROR_OUT_OF_MEMORY: out of memory",
     "output_type": "error",
     "traceback": [
      "\u001b[0;31m---------------------------------------------------------------------------\u001b[0m",
      "\u001b[0;31mXlaRuntimeError\u001b[0m                           Traceback (most recent call last)",
      "Cell \u001b[0;32mIn[45], line 4\u001b[0m\n\u001b[1;32m      1\u001b[0m mse_grey_50_big,mse_black,mse_black_no_eps_50_big\u001b[38;5;241m=\u001b[39mmse_metrics_sim([\u001b[38;5;241m128\u001b[39m,\u001b[38;5;241m128\u001b[39m,\u001b[38;5;241m128\u001b[39m,\u001b[38;5;241m128\u001b[39m],\u001b[38;5;241m50\u001b[39m)\n\u001b[1;32m      2\u001b[0m \u001b[38;5;66;03m#print([128,128,128,128])\u001b[39;00m\n\u001b[1;32m      3\u001b[0m \u001b[38;5;66;03m#print(tabulate([['Grey MSE', jnp.mean(jnp.array(mse_grey)),jnp.min(jnp.array(mse_grey)),jnp.max(jnp.array(mse_grey))], ['Black MSE',jnp.mean(jnp.array(mse_black)),jnp.min(jnp.array(mse_black)),jnp.max(jnp.array(mse_black))],['Black no eps MSE', jnp.mean(jnp.array(mse_black_no_eps)),jnp.min(jnp.array(mse_black_no_eps)),jnp.max(jnp.array(mse_black_no_eps))]], headers=['Network', 'Mean', \"Best\" ,\"Worst\"], tablefmt='orgtbl'))\u001b[39;00m\n\u001b[0;32m----> 4\u001b[0m mse_grey_50_mid,mse_black,mse_black_no_eps_50_mid\u001b[38;5;241m=\u001b[39mmse_metrics_sim([\u001b[38;5;241m64\u001b[39m,\u001b[38;5;241m64\u001b[39m,\u001b[38;5;241m64\u001b[39m],\u001b[38;5;241m50\u001b[39m)\n\u001b[1;32m      5\u001b[0m \u001b[38;5;66;03m#print([64,64,64])\u001b[39;00m\n\u001b[1;32m      6\u001b[0m \u001b[38;5;66;03m#print(tabulate([['Grey MSE', jnp.mean(jnp.array(mse_grey)),jnp.min(jnp.array(mse_grey)),jnp.max(jnp.array(mse_grey))], ['Black MSE',jnp.mean(jnp.array(mse_black)),jnp.min(jnp.array(mse_black)),jnp.max(jnp.array(mse_black))],['Black no eps MSE', jnp.mean(jnp.array(mse_black_no_eps)),jnp.min(jnp.array(mse_black_no_eps)),jnp.max(jnp.array(mse_black_no_eps))]], headers=['Network', 'Mean', \"Best\" ,\"Worst\"], tablefmt='orgtbl'))\u001b[39;00m\n\u001b[1;32m      7\u001b[0m mse_grey_50_small,mse_black,mse_black_no_eps_50_small\u001b[38;5;241m=\u001b[39mmse_metrics_sim([\u001b[38;5;241m32\u001b[39m,\u001b[38;5;241m32\u001b[39m],\u001b[38;5;241m50\u001b[39m)\n",
      "Cell \u001b[0;32mIn[18], line 15\u001b[0m, in \u001b[0;36mmse_metrics_sim\u001b[0;34m(size, seuqence_len)\u001b[0m\n\u001b[1;32m     12\u001b[0m node_struct\u001b[38;5;241m=\u001b[39m ExpertModel(motor_env\u001b[38;5;241m=\u001b[39mmotor_env,psi_layer_sizes\u001b[38;5;241m=\u001b[39m([\u001b[38;5;241m2\u001b[39m]\u001b[38;5;241m+\u001b[39msize\u001b[38;5;241m+\u001b[39m[\u001b[38;5;241m2\u001b[39m]),key\u001b[38;5;241m=\u001b[39mjax_key)\n\u001b[1;32m     13\u001b[0m grey_node \u001b[38;5;241m=\u001b[39m eqx\u001b[38;5;241m.\u001b[39mtree_deserialise_leaves(\u001b[38;5;124mf\u001b[39m\u001b[38;5;124m\"\u001b[39m\u001b[38;5;124mfinal_models/grey_box/Model_\u001b[39m\u001b[38;5;132;01m{\u001b[39;00m\u001b[38;5;28mlen\u001b[39m(size)\u001b[38;5;132;01m}\u001b[39;00m\u001b[38;5;124m_\u001b[39m\u001b[38;5;132;01m{\u001b[39;00msize[\u001b[38;5;241m0\u001b[39m]\u001b[38;5;132;01m}\u001b[39;00m\u001b[38;5;124m_\u001b[39m\u001b[38;5;132;01m{\u001b[39;00mi\u001b[38;5;241m+\u001b[39m\u001b[38;5;241m1\u001b[39m\u001b[38;5;132;01m}\u001b[39;00m\u001b[38;5;124m.eqx\u001b[39m\u001b[38;5;124m\"\u001b[39m, node_struct)\n\u001b[0;32m---> 15\u001b[0m value_grey\u001b[38;5;241m=\u001b[39mcomp_sim(grey_node,gt_wrap,\u001b[38;5;241m1e-4\u001b[39m,seuqence_len)\n\u001b[1;32m     16\u001b[0m value_black\u001b[38;5;241m=\u001b[39mcomp_sim(black_node,gt_wrap,\u001b[38;5;241m1e-4\u001b[39m,seuqence_len)\n\u001b[1;32m     17\u001b[0m value_black_no_eps\u001b[38;5;241m=\u001b[39mcomp_sim(black_node_no_eps,gt_wrap,\u001b[38;5;241m1e-4\u001b[39m,seuqence_len)\n",
      "Cell \u001b[0;32mIn[42], line 5\u001b[0m, in \u001b[0;36mcomp_sim\u001b[0;34m(model, model_gt, tau, sequence_len)\u001b[0m\n\u001b[1;32m      3\u001b[0m long_acts_helper\u001b[38;5;241m=\u001b[39mjnp\u001b[38;5;241m.\u001b[39mconcatenate([long_acts,jnp\u001b[38;5;241m.\u001b[39marray([\u001b[38;5;241m0\u001b[39m,\u001b[38;5;241m0\u001b[39m])[\u001b[38;5;28;01mNone\u001b[39;00m,:]],axis\u001b[38;5;241m=\u001b[39m\u001b[38;5;241m0\u001b[39m)\n\u001b[1;32m      4\u001b[0m stacked_acts\u001b[38;5;241m=\u001b[39mlong_acts_helper\u001b[38;5;241m.\u001b[39mreshape(\u001b[38;5;241m-\u001b[39m\u001b[38;5;241m1\u001b[39m, sequence_len, \u001b[38;5;241m2\u001b[39m)[:,:\u001b[38;5;241m-\u001b[39m\u001b[38;5;241m1\u001b[39m,:]\n\u001b[0;32m----> 5\u001b[0m sim \u001b[38;5;241m=\u001b[39m jax\u001b[38;5;241m.\u001b[39mvmap(model\u001b[38;5;241m.\u001b[39m\u001b[38;5;21m__call__\u001b[39m, in_axes\u001b[38;5;241m=\u001b[39m(\u001b[38;5;241m0\u001b[39m, \u001b[38;5;241m0\u001b[39m,\u001b[38;5;28;01mNone\u001b[39;00m))(stacked_obs[:,\u001b[38;5;241m0\u001b[39m,:], stacked_acts,tau)\n\u001b[1;32m      6\u001b[0m sim_gt \u001b[38;5;241m=\u001b[39m jax\u001b[38;5;241m.\u001b[39mvmap(model_gt\u001b[38;5;241m.\u001b[39m\u001b[38;5;21m__call__\u001b[39m, in_axes\u001b[38;5;241m=\u001b[39m(\u001b[38;5;241m0\u001b[39m, \u001b[38;5;241m0\u001b[39m,\u001b[38;5;28;01mNone\u001b[39;00m))(\n\u001b[1;32m      7\u001b[0m         stacked_obs[:,\u001b[38;5;241m0\u001b[39m], stacked_acts, tau\n\u001b[1;32m      8\u001b[0m     )\n\u001b[1;32m      9\u001b[0m \u001b[38;5;28;01mreturn\u001b[39;00m jnp\u001b[38;5;241m.\u001b[39mnanmean((sim[:,:,:\u001b[38;5;241m2\u001b[39m] \u001b[38;5;241m-\u001b[39m sim_gt[:,:,:\u001b[38;5;241m2\u001b[39m]) \u001b[38;5;241m*\u001b[39m\u001b[38;5;241m*\u001b[39m \u001b[38;5;241m2\u001b[39m)\n",
      "    \u001b[0;31m[... skipping hidden 3 frame]\u001b[0m\n",
      "Cell \u001b[0;32mIn[4], line 19\u001b[0m, in \u001b[0;36mExpertModel.__call__\u001b[0;34m(self, init_obs, actions, tau)\u001b[0m\n\u001b[1;32m     16\u001b[0m     obs \u001b[38;5;241m=\u001b[39m \u001b[38;5;28mself\u001b[39m\u001b[38;5;241m.\u001b[39mstep(obs, action, tau)\n\u001b[1;32m     17\u001b[0m     \u001b[38;5;28;01mreturn\u001b[39;00m obs, obs\n\u001b[0;32m---> 19\u001b[0m _, observations \u001b[38;5;241m=\u001b[39m jax\u001b[38;5;241m.\u001b[39mlax\u001b[38;5;241m.\u001b[39mscan(body_fun, init_obs, actions)\n\u001b[1;32m     20\u001b[0m observations \u001b[38;5;241m=\u001b[39m jnp\u001b[38;5;241m.\u001b[39mconcatenate([init_obs[\u001b[38;5;28;01mNone\u001b[39;00m, :], observations], axis\u001b[38;5;241m=\u001b[39m\u001b[38;5;241m0\u001b[39m)\n\u001b[1;32m     21\u001b[0m \u001b[38;5;28;01mreturn\u001b[39;00m observations\n",
      "    \u001b[0;31m[... skipping hidden 22 frame]\u001b[0m\n",
      "File \u001b[0;32m~/.conda/envs/venv_proj/lib/python3.11/site-packages/jax/_src/interpreters/pxla.py:1185\u001b[0m, in \u001b[0;36mExecuteReplicated.__call__\u001b[0;34m(self, *args)\u001b[0m\n\u001b[1;32m   1183\u001b[0m   \u001b[38;5;28mself\u001b[39m\u001b[38;5;241m.\u001b[39m_handle_token_bufs(result_token_bufs, sharded_runtime_token)\n\u001b[1;32m   1184\u001b[0m \u001b[38;5;28;01melse\u001b[39;00m:\n\u001b[0;32m-> 1185\u001b[0m   results \u001b[38;5;241m=\u001b[39m \u001b[38;5;28mself\u001b[39m\u001b[38;5;241m.\u001b[39mxla_executable\u001b[38;5;241m.\u001b[39mexecute_sharded(input_bufs)\n\u001b[1;32m   1186\u001b[0m \u001b[38;5;28;01mif\u001b[39;00m dispatch\u001b[38;5;241m.\u001b[39mneeds_check_special():\n\u001b[1;32m   1187\u001b[0m   out_arrays \u001b[38;5;241m=\u001b[39m results\u001b[38;5;241m.\u001b[39mdisassemble_into_single_device_arrays()\n",
      "\u001b[0;31mXlaRuntimeError\u001b[0m: RESOURCE_EXHAUSTED: Failed to get module function:CUDA_ERROR_OUT_OF_MEMORY: out of memory"
     ]
    }
   ],
   "source": [
    "mse_grey_50_big,mse_black,mse_black_no_eps_50_big=mse_metrics_sim([128,128,128,128],50)\n",
    "#print([128,128,128,128])\n",
    "#print(tabulate([['Grey MSE', jnp.mean(jnp.array(mse_grey)),jnp.min(jnp.array(mse_grey)),jnp.max(jnp.array(mse_grey))], ['Black MSE',jnp.mean(jnp.array(mse_black)),jnp.min(jnp.array(mse_black)),jnp.max(jnp.array(mse_black))],['Black no eps MSE', jnp.mean(jnp.array(mse_black_no_eps)),jnp.min(jnp.array(mse_black_no_eps)),jnp.max(jnp.array(mse_black_no_eps))]], headers=['Network', 'Mean', \"Best\" ,\"Worst\"], tablefmt='orgtbl'))\n",
    "mse_grey_50_mid,mse_black,mse_black_no_eps_50_mid=mse_metrics_sim([64,64,64],50)\n",
    "#print([64,64,64])\n",
    "#print(tabulate([['Grey MSE', jnp.mean(jnp.array(mse_grey)),jnp.min(jnp.array(mse_grey)),jnp.max(jnp.array(mse_grey))], ['Black MSE',jnp.mean(jnp.array(mse_black)),jnp.min(jnp.array(mse_black)),jnp.max(jnp.array(mse_black))],['Black no eps MSE', jnp.mean(jnp.array(mse_black_no_eps)),jnp.min(jnp.array(mse_black_no_eps)),jnp.max(jnp.array(mse_black_no_eps))]], headers=['Network', 'Mean', \"Best\" ,\"Worst\"], tablefmt='orgtbl'))\n",
    "mse_grey_50_small,mse_black,mse_black_no_eps_50_small=mse_metrics_sim([32,32],50)\n",
    "#print([32,32])\n",
    "#print(tabulate([['Grey MSE', jnp.mean(jnp.array(mse_grey)),jnp.min(jnp.array(mse_grey)),jnp.max(jnp.array(mse_grey))], ['Black MSE',jnp.mean(jnp.array(mse_black)),jnp.min(jnp.array(mse_black)),jnp.max(jnp.array(mse_black))],['Black no eps MSE', jnp.mean(jnp.array(mse_black_no_eps)),jnp.min(jnp.array(mse_black_no_eps)),jnp.max(jnp.array(mse_black_no_eps))]], headers=['Network', 'Mean', \"Best\" ,\"Worst\"], tablefmt='orgtbl'))"
   ]
  },
  {
   "cell_type": "markdown",
   "metadata": {},
   "source": [
    "## Only in Valid Space"
   ]
  },
  {
   "cell_type": "markdown",
   "metadata": {},
   "source": [
    "## 10 Step Simulation"
   ]
  },
  {
   "cell_type": "code",
   "execution_count": 24,
   "metadata": {},
   "outputs": [],
   "source": [
    "mse_grey_10_big_v,mse_black,mse_black_no_eps_10_big_v=mse_metrics_sim_valid([128,128,128,128],10)\n",
    "#print([128,128,128,128])\n",
    "#print(tabulate([['Grey MSE', jnp.mean(jnp.array(mse_grey)),jnp.min(jnp.array(mse_grey)),jnp.max(jnp.array(mse_grey))], ['Black MSE',jnp.mean(jnp.array(mse_black)),jnp.min(jnp.array(mse_black)),jnp.max(jnp.array(mse_black))],['Black no eps MSE', jnp.mean(jnp.array(mse_black_no_eps)),jnp.min(jnp.array(mse_black_no_eps)),jnp.max(jnp.array(mse_black_no_eps))]], headers=['Network', 'Mean', \"Best\" ,\"Worst\"], tablefmt='orgtbl'))\n",
    "mse_grey_10_mid_v,mse_black,mse_black_no_eps_10_mid_v=mse_metrics_sim_valid([64,64,64],10)\n",
    "#print([64,64,64])\n",
    "#print(tabulate([['Grey MSE', jnp.mean(jnp.array(mse_grey)),jnp.min(jnp.array(mse_grey)),jnp.max(jnp.array(mse_grey))], ['Black MSE',jnp.mean(jnp.array(mse_black)),jnp.min(jnp.array(mse_black)),jnp.max(jnp.array(mse_black))],['Black no eps MSE', jnp.mean(jnp.array(mse_black_no_eps)),jnp.min(jnp.array(mse_black_no_eps)),jnp.max(jnp.array(mse_black_no_eps))]], headers=['Network', 'Mean', \"Best\" ,\"Worst\"], tablefmt='orgtbl'))\n",
    "mse_grey_10_small_v,mse_black,mse_black_no_eps_10_small_v=mse_metrics_sim_valid([32,32],10)\n",
    "#print([32,32])\n",
    "#print(tabulate([['Grey MSE', jnp.mean(jnp.array(mse_grey)),jnp.min(jnp.array(mse_grey)),jnp.max(jnp.array(mse_grey))], ['Black MSE',jnp.mean(jnp.array(mse_black)),jnp.min(jnp.array(mse_black)),jnp.max(jnp.array(mse_black))],['Black no eps MSE', jnp.mean(jnp.array(mse_black_no_eps)),jnp.min(jnp.array(mse_black_no_eps)),jnp.max(jnp.array(mse_black_no_eps))]], headers=['Network', 'Mean', \"Best\" ,\"Worst\"], tablefmt='orgtbl'))"
   ]
  },
  {
   "cell_type": "markdown",
   "metadata": {},
   "source": [
    "## 25 Step Simulation"
   ]
  },
  {
   "cell_type": "code",
   "execution_count": 25,
   "metadata": {},
   "outputs": [],
   "source": [
    "mse_grey_25_big_v,mse_black,mse_black_no_eps_25_big_v=mse_metrics_sim_valid([128,128,128,128],25)\n",
    "#print([128,128,128,128])\n",
    "#print(tabulate([['Grey MSE', jnp.mean(jnp.array(mse_grey)),jnp.min(jnp.array(mse_grey)),jnp.max(jnp.array(mse_grey))], ['Black MSE',jnp.mean(jnp.array(mse_black)),jnp.min(jnp.array(mse_black)),jnp.max(jnp.array(mse_black))],['Black no eps MSE', jnp.mean(jnp.array(mse_black_no_eps)),jnp.min(jnp.array(mse_black_no_eps)),jnp.max(jnp.array(mse_black_no_eps))]], headers=['Network', 'Mean', \"Best\" ,\"Worst\"], tablefmt='orgtbl'))\n",
    "mse_grey_25_mid_v,mse_black,mse_black_no_eps_25_mid_v=mse_metrics_sim_valid([64,64,64],25)\n",
    "#print([64,64,64])\n",
    "#print(tabulate([['Grey MSE', jnp.mean(jnp.array(mse_grey)),jnp.min(jnp.array(mse_grey)),jnp.max(jnp.array(mse_grey))], ['Black MSE',jnp.mean(jnp.array(mse_black)),jnp.min(jnp.array(mse_black)),jnp.max(jnp.array(mse_black))],['Black no eps MSE', jnp.mean(jnp.array(mse_black_no_eps)),jnp.min(jnp.array(mse_black_no_eps)),jnp.max(jnp.array(mse_black_no_eps))]], headers=['Network', 'Mean', \"Best\" ,\"Worst\"], tablefmt='orgtbl'))\n",
    "mse_grey_25_small_v,mse_black,mse_black_no_eps_25_small_v=mse_metrics_sim_valid([32,32],25)\n",
    "#print([32,32])\n",
    "#print(tabulate([['Grey MSE', jnp.mean(jnp.array(mse_grey)),jnp.min(jnp.array(mse_grey)),jnp.max(jnp.array(mse_grey))], ['Black MSE',jnp.mean(jnp.array(mse_black)),jnp.min(jnp.array(mse_black)),jnp.max(jnp.array(mse_black))],['Black no eps MSE', jnp.mean(jnp.array(mse_black_no_eps)),jnp.min(jnp.array(mse_black_no_eps)),jnp.max(jnp.array(mse_black_no_eps))]], headers=['Network', 'Mean', \"Best\" ,\"Worst\"], tablefmt='orgtbl'))"
   ]
  },
  {
   "cell_type": "markdown",
   "metadata": {},
   "source": [
    "## 50 Step Simulation"
   ]
  },
  {
   "cell_type": "code",
   "execution_count": 26,
   "metadata": {},
   "outputs": [],
   "source": [
    "mse_grey_50_big_v,mse_black,mse_black_no_eps_50_big_v=mse_metrics_sim_valid([128,128,128,128],50)\n",
    "#print([128,128,128,128])\n",
    "#print(tabulate([['Grey MSE', jnp.mean(jnp.array(mse_grey)),jnp.min(jnp.array(mse_grey)),jnp.max(jnp.array(mse_grey))], ['Black MSE',jnp.mean(jnp.array(mse_black)),jnp.min(jnp.array(mse_black)),jnp.max(jnp.array(mse_black))],['Black no eps MSE', jnp.mean(jnp.array(mse_black_no_eps)),jnp.min(jnp.array(mse_black_no_eps)),jnp.max(jnp.array(mse_black_no_eps))]], headers=['Network', 'Mean', \"Best\" ,\"Worst\"], tablefmt='orgtbl'))\n",
    "mse_grey_50_mid_v,mse_black,mse_black_no_eps_50_mid_v=mse_metrics_sim_valid([64,64,64],50)\n",
    "#print([64,64,64])\n",
    "#print(tabulate([['Grey MSE', jnp.mean(jnp.array(mse_grey)),jnp.min(jnp.array(mse_grey)),jnp.max(jnp.array(mse_grey))], ['Black MSE',jnp.mean(jnp.array(mse_black)),jnp.min(jnp.array(mse_black)),jnp.max(jnp.array(mse_black))],['Black no eps MSE', jnp.mean(jnp.array(mse_black_no_eps)),jnp.min(jnp.array(mse_black_no_eps)),jnp.max(jnp.array(mse_black_no_eps))]], headers=['Network', 'Mean', \"Best\" ,\"Worst\"], tablefmt='orgtbl'))\n",
    "mse_grey_50_small_v,mse_black,mse_black_no_eps_50_small_v=mse_metrics_sim_valid([32,32],50)\n",
    "#print([32,32])\n",
    "#print(tabulate([['Grey MSE', jnp.mean(jnp.array(mse_grey)),jnp.min(jnp.array(mse_grey)),jnp.max(jnp.array(mse_grey))], ['Black MSE',jnp.mean(jnp.array(mse_black)),jnp.min(jnp.array(mse_black)),jnp.max(jnp.array(mse_black))],['Black no eps MSE', jnp.mean(jnp.array(mse_black_no_eps)),jnp.min(jnp.array(mse_black_no_eps)),jnp.max(jnp.array(mse_black_no_eps))]], headers=['Network', 'Mean', \"Best\" ,\"Worst\"], tablefmt='orgtbl'))"
   ]
  },
  {
   "cell_type": "code",
   "execution_count": 32,
   "metadata": {},
   "outputs": [
    {
     "data": {
      "text/plain": [
       "[Array(0.00062572, dtype=float32),\n",
       " Array(0.00052748, dtype=float32),\n",
       " Array(0.00060086, dtype=float32),\n",
       " Array(0.00053769, dtype=float32),\n",
       " Array(0.00055717, dtype=float32),\n",
       " Array(0.00084047, dtype=float32),\n",
       " Array(0.00069302, dtype=float32),\n",
       " Array(0.00060625, dtype=float32),\n",
       " Array(0.00053454, dtype=float32),\n",
       " Array(0.000528, dtype=float32)]"
      ]
     },
     "execution_count": 32,
     "metadata": {},
     "output_type": "execute_result"
    }
   ],
   "source": [
    "mse_grey_10_big_v"
   ]
  },
  {
   "cell_type": "code",
   "execution_count": 47,
   "metadata": {},
   "outputs": [
    {
     "data": {
      "image/png": "[encoded data removed]",
      "text/plain": [
       "<Figure size 1000x600 with 1 Axes>"
      ]
     },
     "metadata": {},
     "output_type": "display_data"
    }
   ],
   "source": [
    "tex_fonts = {\n",
    "    # Use LaTeX to write all text\n",
    "    \"text.usetex\": True,\n",
    "    \"font.family\": \"serif\",\n",
    "    'font.serif' : 'Computer Modern Roman',\n",
    "    # Use 10pt font in plots, to match 10pt font in document\n",
    "    \"axes.labelsize\": 12,\n",
    "    \"font.size\": 12,\n",
    "    # Make the legend/label fonts a little smaller\n",
    "    \"legend.fontsize\": 12,\n",
    "    \"xtick.labelsize\": 12,\n",
    "    \"ytick.labelsize\": 12,\n",
    "}\n",
    "plt.rcParams.update(tex_fonts)\n",
    "\n",
    "# Daten gruppieren: Jeweils gleiche Größen nebeneinander\n",
    "data = [\n",
    "    mse_grey_10_small_v, mse_black_no_eps_10_small_v,\n",
    "    mse_grey_25_small_v, mse_black_no_eps_25_small_v,\n",
    "    mse_grey_50_small_v, mse_black_no_eps_50_small_v\n",
    "]\n",
    "\n",
    "# data = [\n",
    "#     mse_grey_10_mid_v, mse_black_no_eps_10_mid_v,\n",
    "#     mse_grey_25_mid_v, mse_black_no_eps_25_mid_v,\n",
    "#     mse_grey_50_mid_v, mse_black_no_eps_50_mid_v\n",
    "# ]\n",
    "\n",
    "size_labels = [r\"10\", r\"25\", r\"50\"]\n",
    "positions = [1, 1.2, 2, 2.2, 3, 3.2]  # Leicht versetzte Positionen\n",
    "\n",
    "# Farben definieren\n",
    "colors = [\"lightblue\", \"lightgreen\"]\n",
    "\n",
    "# Boxplot erstellen\n",
    "fig=plt.figure(figsize=(10, 6))\n",
    "bp = plt.boxplot(data, positions=positions, showfliers=False, patch_artist=True)\n",
    "\n",
    "# Farben zuweisen\n",
    "for i, box in enumerate(bp['boxes']):\n",
    "    box.set_facecolor(colors[i % 2])\n",
    "\n",
    "# Achsenbeschriftung anpassen\n",
    "plt.xticks([1.1, 2.1, 3.1], size_labels)  # Gemeinsame Labels für gleiche Größen\n",
    "plt.yscale('log')  # Log-Skalierung zur besseren Darstellung\n",
    "plt.ylabel(r\"MSE\")\n",
    "plt.xlabel(r\"Simulation Steps\")\n",
    "#plt.title(r\"MSE Boxplot for Grey- and Black-Box Models\")\n",
    "plt.grid(axis='y', linestyle='--', alpha=0.7)\n",
    "\n",
    "# Legende hinzufügen\n",
    "plt.legend([bp['boxes'][0], bp['boxes'][1]], [\"Grey-Box\", \"Black-Box\"], loc=\"upper left\")\n",
    "\n",
    "# Plot anzeigen\n",
    "\n",
    "#plt.tight_layout()\n",
    "fig.show()\n",
    "plt.savefig('pictures/Sim_comp.pdf', bbox_inches=\"tight\")"
   ]
  }
 ],
 "metadata": {
  "kernelspec": {
   "display_name": "venv_proj",
   "language": "python",
   "name": "python3"
  },
  "language_info": {
   "codemirror_mode": {
    "name": "ipython",
    "version": 3
   },
   "file_extension": ".py",
   "mimetype": "text/x-python",
   "name": "python",
   "nbconvert_exporter": "python",
   "pygments_lexer": "ipython3",
   "version": "3.11.9"
  }
 },
 "nbformat": 4,
 "nbformat_minor": 2
}
