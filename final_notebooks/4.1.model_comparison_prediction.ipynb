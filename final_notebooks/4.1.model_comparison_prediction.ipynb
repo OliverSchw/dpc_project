{
 "cells": [
  {
   "cell_type": "code",
   "execution_count": 1,
   "metadata": {},
   "outputs": [],
   "source": [
    "import jax\n",
    "import jax.nn as jnn\n",
    "import jax.numpy as jnp\n",
    "import numpy as np\n",
    "\n",
    "import equinox as eqx\n",
    "import diffrax\n",
    "import optax\n",
    "from functools import partial"
   ]
  },
  {
   "cell_type": "code",
   "execution_count": 2,
   "metadata": {},
   "outputs": [
    {
     "name": "stderr",
     "output_type": "stream",
     "text": [
      "2025-02-19 10:15:54.449759: W external/xla/xla/service/gpu/nvptx_compiler.cc:760] The NVIDIA driver's CUDA version is 12.2 which is older than the ptxas CUDA version (12.6.77). Because the driver is older than the ptxas version, XLA is disabling parallel compilation, which may slow down compilation. You should update your NVIDIA driver or use the NVIDIA-provided CUDA forward compatibility packages.\n"
     ]
    }
   ],
   "source": [
    "import os\n",
    "os.chdir(\"..\")\n",
    "from policy.policy_training import DPCTrainer\n",
    "from exciting_environments.pmsm.pmsm_env import PMSM, step_eps\n",
    "import jax_dataclasses as jdc\n",
    "from models.models import NeuralEulerODE,MLP\n",
    "#from policy.networks import MLP#,MLP2\n",
    "import matplotlib.pyplot as plt"
   ]
  },
  {
   "cell_type": "code",
   "execution_count": 3,
   "metadata": {},
   "outputs": [],
   "source": [
    "gpus = jax.devices()\n",
    "jax.config.update(\"jax_default_device\", gpus[1])\n",
    "jax.config.update(\"jax_enable_x64\", False)"
   ]
  },
  {
   "cell_type": "code",
   "execution_count": 4,
   "metadata": {},
   "outputs": [],
   "source": [
    "class ExpertModel(eqx.Module):\n",
    "    motor_env: PMSM = eqx.field(static=True)\n",
    "    psi_dq_mlp: MLP\n",
    "\n",
    "    def __init__(self, motor_env, psi_layer_sizes, key):\n",
    "        self.motor_env = motor_env\n",
    "        key, subkey = jax.random.split(key)\n",
    "        self.psi_dq_mlp = MLP(\n",
    "            psi_layer_sizes, key=subkey, hidden_activation=jax.nn.swish, output_activation=jax.nn.tanh\n",
    "        )\n",
    "\n",
    "    def __call__(self, init_obs, actions, tau):\n",
    "\n",
    "        def body_fun(carry, action):\n",
    "            obs = carry\n",
    "            obs = self.step(obs, action, tau)\n",
    "            return obs, obs\n",
    "\n",
    "        _, observations = jax.lax.scan(body_fun, init_obs, actions)\n",
    "        observations = jnp.concatenate([init_obs[None, :], observations], axis=0)\n",
    "        return observations\n",
    "\n",
    "    def step(self, obs, action, tau):\n",
    "        obs1, _ = self.motor_env.reset(self.motor_env.env_properties)  #\n",
    "        obs1 = obs1.at[2].set((3 * 1500 / 60 * 2 * jnp.pi) / (2 * jnp.pi * 3 * 11000 / 60))\n",
    "        obs1 = obs1.at[0].set(obs[0])\n",
    "        obs1 = obs1.at[1].set(obs[1])\n",
    "        obs1 = obs1.at[4].set(obs[2])\n",
    "        obs1 = obs1.at[5].set(obs[3])\n",
    "        state = self.motor_env.generate_state_from_observation(obs1, self.motor_env.env_properties)\n",
    "        # obs,_= self.motor_env.step(state, action, self.motor_env.env_properties)\n",
    "        obs, _ = self.step_expert(state, action, self.motor_env.env_properties)\n",
    "        return jnp.concatenate([obs[0:2], obs[4:6]])\n",
    "\n",
    "    #@partial(jax.jit, static_argnums=[0, 3])\n",
    "    def ode_step(self, state, u_dq, properties):\n",
    "        \"\"\"Computes state by simulating one step.\n",
    "\n",
    "        Args:\n",
    "            system_state: The state from which to calculate state for the next step.\n",
    "            u_dq: The action to apply to the environment.\n",
    "            properties: Parameters and settings of the environment, that do not change over time.\n",
    "\n",
    "        Returns:\n",
    "            state: The computed state after the one step simulation.\n",
    "        \"\"\"\n",
    "        system_state = state.physical_state\n",
    "        omega_el = system_state.omega_el\n",
    "        i_d = system_state.i_d\n",
    "        i_q = system_state.i_q\n",
    "        eps = system_state.epsilon\n",
    "\n",
    "        args = (u_dq, properties.static_params)\n",
    "        if properties.saturated:\n",
    "\n",
    "            def vector_field(t, y, args):\n",
    "                i_d, i_q = y\n",
    "                u_dq, _ = args\n",
    "\n",
    "                J_k = jnp.array([[0, -1], [1, 0]])\n",
    "                i_dq = jnp.array([i_d, i_q])\n",
    "                p_d = {q: interp(jnp.array([i_d, i_q])) for q, interp in self.motor_env.LUT_interpolators.items()}\n",
    "                i_dq_norm = i_dq / properties.physical_constraints.i_d\n",
    "\n",
    "                p_d[\"Psi_d\"] = self.Psi_d(i_dq_norm)\n",
    "                p_d[\"Psi_q\"] = self.Psi_q(i_dq_norm)\n",
    "                p_d[\"L_dd\"] = self.L_dd(i_dq_norm)\n",
    "                p_d[\"L_dq\"] = self.L_dq(i_dq_norm)\n",
    "                p_d[\"L_qd\"] = self.L_qd(i_dq_norm)\n",
    "                p_d[\"L_qq\"] = self.L_qq(i_dq_norm)\n",
    "\n",
    "                L_diff = jnp.column_stack([p_d[q] for q in [\"L_dd\", \"L_dq\", \"L_qd\", \"L_qq\"]]).reshape(2, 2)\n",
    "                L_diff_inv = jnp.linalg.inv(L_diff)\n",
    "                psi_dq = jnp.column_stack([p_d[psi] for psi in [\"Psi_d\", \"Psi_q\"]]).reshape(-1)\n",
    "                di_dq_1 = jnp.einsum(\n",
    "                    \"ij,j->i\",\n",
    "                    (-L_diff_inv * properties.static_params.r_s),\n",
    "                    i_dq,\n",
    "                )\n",
    "                di_dq_2 = jnp.einsum(\"ik,k->i\", L_diff_inv, u_dq)\n",
    "                di_dq_3 = jnp.einsum(\"ij,jk,k->i\", -L_diff_inv, J_k, psi_dq) * omega_el\n",
    "                i_dq_diff = di_dq_1 + di_dq_2 + di_dq_3\n",
    "                d_y = i_dq_diff[0], i_dq_diff[1]\n",
    "\n",
    "                return d_y\n",
    "\n",
    "        else:\n",
    "\n",
    "            def vector_field(t, y, args):\n",
    "                i_d, i_q = y\n",
    "                u_dq, params = args\n",
    "                u_d = u_dq[0]\n",
    "                u_q = u_dq[1]\n",
    "                l_d = params.l_d\n",
    "                l_q = params.l_q\n",
    "                psi_p = params.psi_p\n",
    "                r_s = params.r_s\n",
    "                i_d_diff = (u_d + omega_el * l_q * i_q - r_s * i_d) / l_d\n",
    "                i_q_diff = (u_q - omega_el * (l_d * i_d + psi_p) - r_s * i_q) / l_q\n",
    "                d_y = i_d_diff, i_q_diff\n",
    "                return d_y\n",
    "\n",
    "        term = diffrax.ODETerm(vector_field)\n",
    "        t0 = 0\n",
    "        t1 = self.motor_env.tau\n",
    "        y0 = tuple([i_d, i_q])\n",
    "        env_state = self.motor_env._solver.init(term, t0, t1, y0, args)\n",
    "        y, _, _, env_state, _ = self.motor_env._solver.step(term, t0, t1, y0, args, env_state, made_jump=False)\n",
    "\n",
    "        i_d_k1 = y[0]\n",
    "        i_q_k1 = y[1]\n",
    "\n",
    "        if properties.saturated:\n",
    "            torque = jnp.array(\n",
    "                [self.motor_env.currents_to_torque_saturated(i_d=i_d_k1, i_q=i_q_k1, env_properties=properties)]\n",
    "            )[0]\n",
    "        else:\n",
    "            torque = jnp.array([self.motor_env.currents_to_torque(i_d_k1, i_q_k1, properties)])[0]\n",
    "\n",
    "        with jdc.copy_and_mutate(system_state, validate=False) as system_state_next:\n",
    "            system_state_next.epsilon = step_eps(eps, omega_el, self.motor_env.tau, 1.0)\n",
    "            system_state_next.i_d = i_d_k1\n",
    "            system_state_next.i_q = i_q_k1\n",
    "            system_state_next.torque = torque  # [0]\n",
    "\n",
    "        with jdc.copy_and_mutate(state, validate=False) as state_next:\n",
    "            state_next.physical_state = system_state_next\n",
    "        return state_next\n",
    "\n",
    "    #@partial(jax.jit, static_argnums=[0, 3])\n",
    "    def step_expert(self, state, action, env_properties):\n",
    "        \"\"\"Computes state by simulating one step taking the deadtime into account.\n",
    "\n",
    "        Args:\n",
    "            system_state: The state from which to calculate state for the next step.\n",
    "            action: The action to apply to the environment.\n",
    "            properties: Parameters and settings of the environment, that do not change over time.\n",
    "\n",
    "        Returns:\n",
    "            state: The computed state after the one step simulation.\n",
    "        \"\"\"\n",
    "\n",
    "        action = self.motor_env.constraint_denormalization(action, state, env_properties)\n",
    "\n",
    "        action_buffer = jnp.array([state.physical_state.u_d_buffer, state.physical_state.u_q_buffer])\n",
    "\n",
    "        if env_properties.static_params.deadtime > 0:\n",
    "\n",
    "            updated_buffer = jnp.array([action[0], action[1]])\n",
    "            u_dq = action_buffer\n",
    "        else:\n",
    "            updated_buffer = action_buffer\n",
    "\n",
    "            u_dq = action\n",
    "\n",
    "        next_state = self.ode_step(state, u_dq, env_properties)\n",
    "        with jdc.copy_and_mutate(next_state, validate=True) as next_state_update:\n",
    "            next_state_update.physical_state.u_d_buffer = updated_buffer[0]\n",
    "            next_state_update.physical_state.u_q_buffer = updated_buffer[1]\n",
    "\n",
    "        observation = self.motor_env.generate_observation(next_state_update, env_properties)\n",
    "        return observation, next_state_update\n",
    "\n",
    "    def Psi_d(self, i_dq_norm):\n",
    "        return self.psi_dq_mlp(i_dq_norm)[0]  #  self.motor_env.LUT_interpolators[\"Psi_d\"](i_dq)[0]\n",
    "\n",
    "    def Psi_q(self, i_dq_norm):\n",
    "        return self.psi_dq_mlp(i_dq_norm)[1]  #   self.motor_env.LUT_interpolators[\"Psi_q\"](i_dq)[0]\n",
    "\n",
    "    def Psi_d_physical(self, i_dq):\n",
    "        i_dq_norm = i_dq / self.motor_env.env_properties.physical_constraints.i_d\n",
    "        return self.Psi_d(i_dq_norm)\n",
    "\n",
    "    def Psi_q_physical(self, i_dq):\n",
    "        i_dq_norm = i_dq / self.motor_env.env_properties.physical_constraints.i_d\n",
    "        return self.Psi_q(i_dq_norm)\n",
    "\n",
    "    def l_d_dq(self, i_dq):\n",
    "        return jax.grad(self.Psi_d_physical)(i_dq)\n",
    "\n",
    "    def l_q_dq(self, i_dq):\n",
    "        return jax.grad(self.Psi_q_physical)(i_dq)\n",
    "\n",
    "    def L_dd(self, i_dq_norm):\n",
    "        i_dq = i_dq_norm * self.motor_env.env_properties.physical_constraints.i_d\n",
    "        return self.l_d_dq(i_dq)[0]\n",
    "\n",
    "    def L_dq(self, i_dq_norm):\n",
    "        i_dq = i_dq_norm * self.motor_env.env_properties.physical_constraints.i_d\n",
    "        return self.l_d_dq(i_dq)[1]\n",
    "\n",
    "    def L_qd(self, i_dq_norm):\n",
    "        i_dq = i_dq_norm * self.motor_env.env_properties.physical_constraints.i_d\n",
    "        return self.l_q_dq(i_dq)[0]\n",
    "\n",
    "    def L_qq(self, i_dq_norm):\n",
    "        i_dq = i_dq_norm * self.motor_env.env_properties.physical_constraints.i_d\n",
    "        return self.l_q_dq(i_dq)[1]\n",
    "\n",
    "    def L_matrix(self, i_dq):\n",
    "        L_dd = self.L_dd(i_dq)\n",
    "        L_dq = self.L_dq(i_dq)\n",
    "        L_qd = self.L_qd(i_dq)\n",
    "        L_qq = self.L_qq(i_dq)\n",
    "        mat = jnp.array([[L_dd, L_dq], [L_qd, L_qq]])\n",
    "        return mat\n"
   ]
  },
  {
   "cell_type": "code",
   "execution_count": 5,
   "metadata": {},
   "outputs": [],
   "source": [
    "motor_env = PMSM(\n",
    "    saturated=True,\n",
    "    LUT_motor_name=\"BRUSA\",\n",
    "    batch_size=1,\n",
    "    control_state=[], \n",
    "    static_params = {\n",
    "            \"p\": 3,\n",
    "            \"r_s\": 15e-3,\n",
    "            \"l_d\": 0.37e-3,\n",
    "            \"l_q\": 1.2e-3,\n",
    "            \"psi_p\": 65.6e-3,\n",
    "            \"deadtime\": 0,\n",
    "    })"
   ]
  },
  {
   "cell_type": "markdown",
   "metadata": {},
   "source": [
    "## Prediction Step Comparison"
   ]
  },
  {
   "cell_type": "code",
   "execution_count": 6,
   "metadata": {},
   "outputs": [],
   "source": [
    "def build_grid(dim, low, high, points_per_dim):\n",
    "    \"\"\"Build a uniform grid of points in the given dimension.\"\"\"\n",
    "    xs = [jnp.linspace(low, high, points_per_dim) for _ in range(dim)]\n",
    "\n",
    "    x_g = jnp.meshgrid(*xs)\n",
    "    x_g = jnp.stack([_x for _x in x_g], axis=-1)\n",
    "    x_g = x_g.reshape(-1, dim)\n",
    "\n",
    "    assert x_g.shape[0] == points_per_dim**dim\n",
    "    return x_g\n",
    "\n",
    "\n",
    "def get_valid_points(data_grid, constr_func):\n",
    "    valid_grid_point = jax.vmap(constr_func, in_axes=0)(data_grid) == 0\n",
    "    constraint_data_points = data_grid[jnp.where(valid_grid_point == True)]\n",
    "    return constraint_data_points\n",
    "\n",
    "\n",
    "def valid_space_grid(constraint_function, data_dim, points_per_dim, min, max):\n",
    "    hypercube_grid = build_grid(data_dim, min, max, points_per_dim)\n",
    "    return get_valid_points(hypercube_grid, constraint_function)"
   ]
  },
  {
   "cell_type": "code",
   "execution_count": 7,
   "metadata": {},
   "outputs": [],
   "source": [
    "class PredictionComparison(eqx.Module):\n",
    "    grid: jax.Array\n",
    "    action_dim: float\n",
    "    obs_dim: float\n",
    "\n",
    "    def __init__(self, grid, action_dim, obs_dim):\n",
    "        assert grid.shape[-1] == (\n",
    "            action_dim + obs_dim\n",
    "        ), f\"The grid dimension does not fit the action_dim and obs_dim. Grid dimension should be action_dim+obs_dim, but {grid.shape[-1]} and {action_dim}+{obs_dim} are given\"\n",
    "        self.grid = grid\n",
    "        self.action_dim = action_dim\n",
    "        self.obs_dim = obs_dim\n",
    "\n",
    "    def __call__(self, model, model_gt, tau):\n",
    "        pred = jax.vmap(model.step, in_axes=(0, 0,None))(self.grid[:, : self.obs_dim], self.grid[:, self.obs_dim :],tau)\n",
    "        pred_gt = jax.vmap(model_gt.step, in_axes=(0, 0,None))(\n",
    "            self.grid[:, : self.obs_dim], self.grid[:, self.obs_dim :], tau\n",
    "        )\n",
    "        return (pred[:,:2] - pred_gt[:,:2]), jnp.mean((pred[:,:2] - pred_gt[:,:2]) ** 2)"
   ]
  },
  {
   "cell_type": "code",
   "execution_count": 8,
   "metadata": {},
   "outputs": [],
   "source": [
    "def constr_function(data_point):\n",
    "    constr1=jax.nn.relu(((data_point[0]*0.5-0.5)**2+data_point[1]**2)-1)\n",
    "    return constr1"
   ]
  },
  {
   "cell_type": "code",
   "execution_count": 9,
   "metadata": {},
   "outputs": [],
   "source": [
    "grid=valid_space_grid(constr_function, 5, 16, -1, 1)\n",
    "grid=jnp.concatenate([grid[:,:2],jnp.cos(jnp.pi*grid[:,3])[:,None],jnp.sin(jnp.pi*grid[:,3])[:,None],grid[:,-2:]],axis=1)\n",
    "comp=PredictionComparison(grid=grid,action_dim=2,obs_dim=4)"
   ]
  },
  {
   "cell_type": "code",
   "execution_count": 10,
   "metadata": {},
   "outputs": [],
   "source": [
    "class GtWrapper(eqx.Module):\n",
    "    motor_env: PMSM = eqx.field(static=True)\n",
    "    def __init__(self, motor_env):\n",
    "        self.motor_env = motor_env\n",
    "\n",
    "    def __call__(self, init_obs, actions, tau):\n",
    "\n",
    "        def body_fun(carry, action):\n",
    "            obs = carry\n",
    "            obs = self.step(obs, action, tau)\n",
    "            return obs, obs\n",
    "\n",
    "        _, observations = jax.lax.scan(body_fun, init_obs, actions)\n",
    "        observations = jnp.concatenate([init_obs[None, :], observations], axis=0)\n",
    "        return observations\n",
    "\n",
    "    def step(self, obs, action, tau):\n",
    "        obs1, _ = self.motor_env.reset(self.motor_env.env_properties)  #\n",
    "        obs1 = obs1.at[2].set((3 * 1500 / 60 * 2 * jnp.pi) / (2 * jnp.pi * 3 * 11000 / 60))\n",
    "        obs1 = obs1.at[0].set(obs[0])\n",
    "        obs1 = obs1.at[1].set(obs[1])\n",
    "        obs1 = obs1.at[4].set(obs[2])\n",
    "        obs1 = obs1.at[5].set(obs[3])\n",
    "        state = self.motor_env.generate_state_from_observation(obs1, self.motor_env.env_properties)\n",
    "        # obs,_= self.motor_env.step(state, action, self.motor_env.env_properties)\n",
    "        obs, _ = self.motor_env.step(state, action, self.motor_env.env_properties)\n",
    "        return jnp.concatenate([obs[0:2], obs[4:6]])"
   ]
  },
  {
   "cell_type": "code",
   "execution_count": 11,
   "metadata": {},
   "outputs": [],
   "source": [
    "class BlackWrapperEps(eqx.Module):\n",
    "    node: eqx.Module\n",
    "    def __init__(self, node):\n",
    "        self.node = node\n",
    "\n",
    "    def __call__(self, init_obs, actions, tau):\n",
    "        init_obs=init_obs[:2]\n",
    "        return self.node(init_obs, actions, tau)\n",
    "\n",
    "    def step(self, obs, action, tau):\n",
    "        obs1 = obs[:2]\n",
    "        return self.node.step(obs1, action, tau)"
   ]
  },
  {
   "cell_type": "code",
   "execution_count": 12,
   "metadata": {},
   "outputs": [],
   "source": [
    "gt_wrap=GtWrapper(motor_env=motor_env)"
   ]
  },
  {
   "cell_type": "code",
   "execution_count": 13,
   "metadata": {},
   "outputs": [],
   "source": [
    "jax_key = jax.random.PRNGKey(14)\n",
    "node_struct= ExpertModel(motor_env=motor_env,psi_layer_sizes=[2,128,128,128,128,2],key=jax_key)\n",
    "grey_node = eqx.tree_deserialise_leaves(f\"final_models/grey_box/Model_4_128_2.eqx\", node_struct) "
   ]
  },
  {
   "cell_type": "code",
   "execution_count": 14,
   "metadata": {},
   "outputs": [],
   "source": [
    "jax_key = jax.random.PRNGKey(2)\n",
    "node_struct=NeuralEulerODE([6,128,128,128,128,4],key=jax_key)\n",
    "black_node = eqx.tree_deserialise_leaves(\"final_models/black_box/Model_eps_4_128_9.eqx\", node_struct)"
   ]
  },
  {
   "cell_type": "code",
   "execution_count": 15,
   "metadata": {},
   "outputs": [],
   "source": [
    "jax_key = jax.random.PRNGKey(2)\n",
    "node_struct=NeuralEulerODE([4,128,128,128,128,2],key=jax_key)\n",
    "node_no_eps = eqx.tree_deserialise_leaves(\"final_models/black_box/Model_4_128_7.eqx\", node_struct)\n",
    "black_node_no_eps=BlackWrapperEps(node=node_no_eps)"
   ]
  },
  {
   "cell_type": "code",
   "execution_count": 16,
   "metadata": {},
   "outputs": [],
   "source": [
    "def mse_metrics(size):\n",
    "    values_grey=[]\n",
    "    values_black=[]\n",
    "    values_black_no_eps=[]\n",
    "    for i in range(10):\n",
    "        jax_key = jax.random.PRNGKey(2)\n",
    "        node_struct=NeuralEulerODE(([4]+size+[2]),key=jax_key)\n",
    "        node_no_eps = eqx.tree_deserialise_leaves(f\"final_models/black_box/Model_{len(size)}_{size[0]}_{i+1}.eqx\", node_struct)\n",
    "        black_node_no_eps=BlackWrapperEps(node=node_no_eps)\n",
    "        node_struct=NeuralEulerODE(([6]+size+[4]),key=jax_key)\n",
    "        black_node = eqx.tree_deserialise_leaves(f\"final_models/black_box/Model_eps_{len(size)}_{size[0]}_{i+1}.eqx\", node_struct)\n",
    "        node_struct= ExpertModel(motor_env=motor_env,psi_layer_sizes=([2]+size+[2]),key=jax_key)\n",
    "        grey_node = eqx.tree_deserialise_leaves(f\"final_models/grey_box/Model_{len(size)}_{size[0]}_{i+1}.eqx\", node_struct)\n",
    "\n",
    "        _,value_grey=comp(grey_node,gt_wrap,1e-4)\n",
    "        _,value_black=comp(black_node,gt_wrap,1e-4)\n",
    "        _,value_black_no_eps=comp(black_node_no_eps,gt_wrap,1e-4)\n",
    "        values_grey.append(value_grey)\n",
    "        values_black.append(value_black)\n",
    "        values_black_no_eps.append(value_black_no_eps)\n",
    "    \n",
    "    return values_grey, values_black,  values_black_no_eps"
   ]
  },
  {
   "cell_type": "markdown",
   "metadata": {},
   "source": [
    "### Different Network sizes"
   ]
  },
  {
   "cell_type": "code",
   "execution_count": 17,
   "metadata": {},
   "outputs": [],
   "source": [
    "from tabulate import tabulate"
   ]
  },
  {
   "cell_type": "code",
   "execution_count": 18,
   "metadata": {},
   "outputs": [
    {
     "name": "stdout",
     "output_type": "stream",
     "text": [
      "[128, 128, 128, 128]\n",
      "| Network          |        Mean |        Best |       Worst |\n",
      "|------------------+-------------+-------------+-------------|\n",
      "| Grey MSE         | 5.34204e-05 | 3.88253e-05 | 7.88713e-05 |\n",
      "| Black MSE        | 0.000703244 | 0.000489531 | 0.000869475 |\n",
      "| Black no eps MSE | 0.000593781 | 0.000498731 | 0.000801047 |\n"
     ]
    }
   ],
   "source": [
    "mse_grey,mse_black,mse_black_no_eps=mse_metrics([128,128,128,128])\n",
    "print([128,128,128,128])\n",
    "print(tabulate([['Grey MSE', jnp.mean(jnp.array(mse_grey)),jnp.min(jnp.array(mse_grey)),jnp.max(jnp.array(mse_grey))], ['Black MSE',jnp.mean(jnp.array(mse_black)),jnp.min(jnp.array(mse_black)),jnp.max(jnp.array(mse_black))],['Black no eps MSE', jnp.mean(jnp.array(mse_black_no_eps)),jnp.min(jnp.array(mse_black_no_eps)),jnp.max(jnp.array(mse_black_no_eps))]], headers=['Network', 'Mean', \"Best\" ,\"Worst\"], tablefmt='orgtbl'))"
   ]
  },
  {
   "cell_type": "code",
   "execution_count": 19,
   "metadata": {},
   "outputs": [
    {
     "name": "stdout",
     "output_type": "stream",
     "text": [
      "[64, 64, 64]\n",
      "| Network          |        Mean |        Best |       Worst |\n",
      "|------------------+-------------+-------------+-------------|\n",
      "| Grey MSE         | 0.000157176 | 0.000103665 | 0.000259659 |\n",
      "| Black MSE        | 0.00117136  | 0.00103674  | 0.00133074  |\n",
      "| Black no eps MSE | 0.000962901 | 0.000730923 | 0.00116784  |\n"
     ]
    }
   ],
   "source": [
    "mse_grey,mse_black,mse_black_no_eps=mse_metrics([64,64,64])\n",
    "print([64,64,64])\n",
    "print(tabulate([['Grey MSE', jnp.mean(jnp.array(mse_grey)),jnp.min(jnp.array(mse_grey)),jnp.max(jnp.array(mse_grey))], ['Black MSE',jnp.mean(jnp.array(mse_black)),jnp.min(jnp.array(mse_black)),jnp.max(jnp.array(mse_black))],['Black no eps MSE', jnp.mean(jnp.array(mse_black_no_eps)),jnp.min(jnp.array(mse_black_no_eps)),jnp.max(jnp.array(mse_black_no_eps))]], headers=['Network', 'Mean', \"Best\" ,\"Worst\"], tablefmt='orgtbl'))"
   ]
  },
  {
   "cell_type": "code",
   "execution_count": 20,
   "metadata": {},
   "outputs": [
    {
     "name": "stdout",
     "output_type": "stream",
     "text": [
      "[32, 32]\n",
      "| Network          |        Mean |        Best |        Worst |\n",
      "|------------------+-------------+-------------+--------------|\n",
      "| Grey MSE         | 10.972      | 0.000993369 | 105.118      |\n",
      "| Black MSE        |  0.00293138 | 0.00194913  |   0.00613542 |\n",
      "| Black no eps MSE |  0.00308058 | 0.00203764  |   0.00544367 |\n"
     ]
    }
   ],
   "source": [
    "mse_grey,mse_black,mse_black_no_eps=mse_metrics([32,32])\n",
    "print([32,32])\n",
    "print(tabulate([['Grey MSE', jnp.mean(jnp.array(mse_grey)),jnp.min(jnp.array(mse_grey)),jnp.max(jnp.array(mse_grey))], ['Black MSE',jnp.mean(jnp.array(mse_black)),jnp.min(jnp.array(mse_black)),jnp.max(jnp.array(mse_black))],['Black no eps MSE', jnp.mean(jnp.array(mse_black_no_eps)),jnp.min(jnp.array(mse_black_no_eps)),jnp.max(jnp.array(mse_black_no_eps))]], headers=['Network', 'Mean', \"Best\" ,\"Worst\"], tablefmt='orgtbl'))"
   ]
  }
 ],
 "metadata": {
  "kernelspec": {
   "display_name": "venv_proj",
   "language": "python",
   "name": "python3"
  },
  "language_info": {
   "codemirror_mode": {
    "name": "ipython",
    "version": 3
   },
   "file_extension": ".py",
   "mimetype": "text/x-python",
   "name": "python",
   "nbconvert_exporter": "python",
   "pygments_lexer": "ipython3",
   "version": "3.11.9"
  }
 },
 "nbformat": 4,
 "nbformat_minor": 2
}
